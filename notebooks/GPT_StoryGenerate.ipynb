{
  "cells": [
    {
      "cell_type": "markdown",
      "metadata": {
        "id": "uMG5BvPp3j4a"
      },
      "source": [
        "# Libraries"
      ]
    },
    {
      "cell_type": "code",
      "execution_count": 2,
      "metadata": {
        "id": "DomnoPKjc718"
      },
      "outputs": [],
      "source": [
        "import numpy as np # linear algebra\n",
        "import pandas as pd # data processing, CSV file I/O (e.g. pd.read_csv)\n",
        "import torch\n",
        "import logging\n",
        "from tqdm import tqdm\n",
        "import math\n",
        "import argparse\n",
        "import os"
      ]
    },
    {
      "cell_type": "markdown",
      "metadata": {},
      "source": [
        "## Weights and Biases Integration"
      ]
    },
    {
      "cell_type": "code",
      "execution_count": null,
      "metadata": {},
      "outputs": [],
      "source": [
        "! pip install wandb"
      ]
    },
    {
      "cell_type": "code",
      "execution_count": null,
      "metadata": {},
      "outputs": [],
      "source": [
        "import wandb\n",
        "wandb.init()"
      ]
    },
    {
      "cell_type": "code",
      "execution_count": null,
      "metadata": {},
      "outputs": [],
      "source": [
        "# Log in to your W&B account\n",
        "wandb.login()"
      ]
    },
    {
      "cell_type": "code",
      "execution_count": null,
      "metadata": {},
      "outputs": [],
      "source": [
        "wandb.watch(model, log_freq=100)"
      ]
    },
    {
      "cell_type": "markdown",
      "metadata": {
        "id": "actclqoX3nFs"
      },
      "source": [
        "# Import transformers "
      ]
    },
    {
      "cell_type": "code",
      "execution_count": 3,
      "metadata": {
        "colab": {
          "base_uri": "https://localhost:8080/"
        },
        "id": "mBxzO8pJdRkV",
        "outputId": "44470eae-1520-4807-a816-c5014aeaaf4c"
      },
      "outputs": [
        {
          "name": "stdout",
          "output_type": "stream",
          "text": [
            "Cloning into 'transformers'...\n",
            "remote: Enumerating objects: 88534, done.\u001b[K\n",
            "remote: Counting objects: 100% (387/387), done.\u001b[K\n",
            "remote: Compressing objects: 100% (235/235), done.\u001b[K\n",
            "remote: Total 88534 (delta 178), reused 276 (delta 115), pack-reused 88147\u001b[K\n",
            "Receiving objects: 100% (88534/88534), 71.56 MiB | 14.77 MiB/s, done.\n",
            "Resolving deltas: 100% (63678/63678), done.\n",
            "Processing ./transformers\n",
            "\u001b[33m  DEPRECATION: A future pip version will change local packages to be built in-place without first copying to a temporary directory. We recommend you use --use-feature=in-tree-build to test your packages with this new behavior before it becomes the default.\n",
            "   pip 21.3 will remove support for this functionality. You can find discussion regarding this at https://github.com/pypa/pip/issues/7555.\u001b[0m\n",
            "  Installing build dependencies ... \u001b[?25l\u001b[?25hdone\n",
            "  Getting requirements to build wheel ... \u001b[?25l\u001b[?25hdone\n",
            "    Preparing wheel metadata ... \u001b[?25l\u001b[?25hdone\n",
            "Requirement already satisfied: importlib-metadata in /usr/local/lib/python3.7/dist-packages (from transformers==4.13.0.dev0) (4.8.1)\n",
            "Collecting huggingface-hub<1.0,>=0.1.0\n",
            "  Downloading huggingface_hub-0.1.1-py3-none-any.whl (59 kB)\n",
            "\u001b[K     |████████████████████████████████| 59 kB 6.6 MB/s \n",
            "\u001b[?25hCollecting pyyaml>=5.1\n",
            "  Downloading PyYAML-6.0-cp37-cp37m-manylinux_2_5_x86_64.manylinux1_x86_64.manylinux_2_12_x86_64.manylinux2010_x86_64.whl (596 kB)\n",
            "\u001b[K     |████████████████████████████████| 596 kB 26.7 MB/s \n",
            "\u001b[?25hRequirement already satisfied: numpy>=1.17 in /usr/local/lib/python3.7/dist-packages (from transformers==4.13.0.dev0) (1.19.5)\n",
            "Requirement already satisfied: filelock in /usr/local/lib/python3.7/dist-packages (from transformers==4.13.0.dev0) (3.3.0)\n",
            "Requirement already satisfied: requests in /usr/local/lib/python3.7/dist-packages (from transformers==4.13.0.dev0) (2.23.0)\n",
            "Requirement already satisfied: tqdm>=4.27 in /usr/local/lib/python3.7/dist-packages (from transformers==4.13.0.dev0) (4.62.3)\n",
            "Requirement already satisfied: packaging>=20.0 in /usr/local/lib/python3.7/dist-packages (from transformers==4.13.0.dev0) (21.0)\n",
            "Collecting sacremoses\n",
            "  Downloading sacremoses-0.0.46-py3-none-any.whl (895 kB)\n",
            "\u001b[K     |████████████████████████████████| 895 kB 45.4 MB/s \n",
            "\u001b[?25hCollecting tokenizers<0.11,>=0.10.1\n",
            "  Downloading tokenizers-0.10.3-cp37-cp37m-manylinux_2_5_x86_64.manylinux1_x86_64.manylinux_2_12_x86_64.manylinux2010_x86_64.whl (3.3 MB)\n",
            "\u001b[K     |████████████████████████████████| 3.3 MB 57.9 MB/s \n",
            "\u001b[?25hRequirement already satisfied: regex!=2019.12.17 in /usr/local/lib/python3.7/dist-packages (from transformers==4.13.0.dev0) (2019.12.20)\n",
            "Requirement already satisfied: typing-extensions>=3.7.4.3 in /usr/local/lib/python3.7/dist-packages (from huggingface-hub<1.0,>=0.1.0->transformers==4.13.0.dev0) (3.7.4.3)\n",
            "Requirement already satisfied: pyparsing>=2.0.2 in /usr/local/lib/python3.7/dist-packages (from packaging>=20.0->transformers==4.13.0.dev0) (2.4.7)\n",
            "Requirement already satisfied: zipp>=0.5 in /usr/local/lib/python3.7/dist-packages (from importlib-metadata->transformers==4.13.0.dev0) (3.6.0)\n",
            "Requirement already satisfied: chardet<4,>=3.0.2 in /usr/local/lib/python3.7/dist-packages (from requests->transformers==4.13.0.dev0) (3.0.4)\n",
            "Requirement already satisfied: certifi>=2017.4.17 in /usr/local/lib/python3.7/dist-packages (from requests->transformers==4.13.0.dev0) (2021.5.30)\n",
            "Requirement already satisfied: urllib3!=1.25.0,!=1.25.1,<1.26,>=1.21.1 in /usr/local/lib/python3.7/dist-packages (from requests->transformers==4.13.0.dev0) (1.24.3)\n",
            "Requirement already satisfied: idna<3,>=2.5 in /usr/local/lib/python3.7/dist-packages (from requests->transformers==4.13.0.dev0) (2.10)\n",
            "Requirement already satisfied: six in /usr/local/lib/python3.7/dist-packages (from sacremoses->transformers==4.13.0.dev0) (1.15.0)\n",
            "Requirement already satisfied: click in /usr/local/lib/python3.7/dist-packages (from sacremoses->transformers==4.13.0.dev0) (7.1.2)\n",
            "Requirement already satisfied: joblib in /usr/local/lib/python3.7/dist-packages (from sacremoses->transformers==4.13.0.dev0) (1.0.1)\n",
            "Building wheels for collected packages: transformers\n",
            "  Building wheel for transformers (PEP 517) ... \u001b[?25l\u001b[?25hdone\n",
            "  Created wheel for transformers: filename=transformers-4.13.0.dev0-py3-none-any.whl size=3101516 sha256=1cc3e082bf2beaf0c7a021b77f996d6ebb02e879378842a3dbc4ccadf04c8cbf\n",
            "  Stored in directory: /tmp/pip-ephem-wheel-cache-dm5fd7zc/wheels/49/62/f4/6730819eed4e6468662b1519bf3bf46419b2335990c77f8767\n",
            "Successfully built transformers\n",
            "Installing collected packages: pyyaml, tokenizers, sacremoses, huggingface-hub, transformers\n",
            "  Attempting uninstall: pyyaml\n",
            "    Found existing installation: PyYAML 3.13\n",
            "    Uninstalling PyYAML-3.13:\n",
            "      Successfully uninstalled PyYAML-3.13\n",
            "Successfully installed huggingface-hub-0.1.1 pyyaml-6.0 sacremoses-0.0.46 tokenizers-0.10.3 transformers-4.13.0.dev0\n"
          ]
        }
      ],
      "source": [
        "!git clone https://github.com/huggingface/transformers\n",
        "!pip install transformers/\n",
        "from transformers import GPT2Tokenizer, GPT2LMHeadModel\n",
        "from transformers.optimization import AdamW, get_linear_schedule_with_warmup"
      ]
    },
    {
      "cell_type": "markdown",
      "metadata": {
        "id": "G2MrFeTT3yG-"
      },
      "source": [
        "#Getting data"
      ]
    },
    {
      "cell_type": "code",
      "execution_count": 4,
      "metadata": {
        "colab": {
          "base_uri": "https://localhost:8080/"
        },
        "id": "WfzWBMYPSmW0",
        "outputId": "4b5651ad-028a-49c5-d3b9-80278c4d2f1f"
      },
      "outputs": [
        {
          "name": "stdout",
          "output_type": "stream",
          "text": [
            "Mounted at /content/drive\n"
          ]
        }
      ],
      "source": [
        "from google.colab import drive\n",
        "drive.mount('/content/drive')"
      ]
    },
    {
      "cell_type": "markdown",
      "metadata": {
        "id": "fjcUseQt4EZD"
      },
      "source": [
        "# Cleaning text and generating train and test dataset"
      ]
    },
    {
      "cell_type": "code",
      "execution_count": 5,
      "metadata": {
        "id": "Uad74MUmdUOM"
      },
      "outputs": [],
      "source": [
        "DATAPATH='/content/drive/MyDrive/CMPE_297_Project/story-text'\n",
        "def combinetext(prompt, story):\n",
        "    fp=open(os.path.join(DATAPATH,prompt),encoding='utf8')\n",
        "    fs=open(os.path.join(DATAPATH,story),encoding='utf8')\n",
        "    prompts=fp.readlines()\n",
        "    stories=fs.readlines()\n",
        "    assert len(prompts)==len(stories)\n",
        "    combine=[]\n",
        "    for i in range(len(prompts)):\n",
        "        combine.append(prompts[i].rstrip()+' <sep> '+\" \".join(stories[i].split()[:300]))\n",
        "    return combine\n",
        "\n",
        "#do a littel text clean with punctuations\n",
        "def cleanpunctuation(s):\n",
        "    for p in '!,.:;?':\n",
        "        s=s.replace(' '+p,p)\n",
        "    s=s.replace(' '+'n\\'t','n\\'t')\n",
        "    s=s.replace(' '+'\\'s','\\'s')\n",
        "    s=s.replace(' '+'\\'re','\\'re')\n",
        "    s=s.replace(' '+'\\'ve','\\'ve')\n",
        "    s=s.replace(' '+'\\'ll','\\'ll')\n",
        "    s=s.replace(' '+'\\'am','\\'am')\n",
        "    s=s.replace(' '+'\\'m','\\'m')\n",
        "    s=s.replace(' '+'\\' m','\\'m')\n",
        "    s=s.replace(' '+'\\'m','\\'m')\n",
        "    s=s.replace(' '+'\\' ve','\\'ve')\n",
        "    s=s.replace(' '+'\\' s','\\'s')\n",
        "    s=s.replace('<newline>','\\n')\n",
        "    return s   \n",
        "\n",
        "train_text=combinetext('valid.wp_source', 'valid.wp_target')\n",
        "train_text=list(map(cleanpunctuation,train_text))\n",
        "valid_text=combinetext('test.wp_source', 'test.wp_target')\n",
        "valid_text=list(map(cleanpunctuation,valid_text))"
      ]
    },
    {
      "cell_type": "markdown",
      "metadata": {
        "id": "oLgW8mN24Qbp"
      },
      "source": [
        "# Sample train data"
      ]
    },
    {
      "cell_type": "code",
      "execution_count": 6,
      "metadata": {
        "colab": {
          "base_uri": "https://localhost:8080/",
          "height": 108
        },
        "id": "rBR-LcJwGudh",
        "outputId": "9f554679-dc4f-4672-d2aa-33d4bd4d73d7"
      },
      "outputs": [
        {
          "data": {
            "application/vnd.google.colaboratory.intrinsic+json": {
              "type": "string"
            },
            "text/plain": [
              "\"[ WP ] Everyone in the world has magic with various levels of mastery over it. You are extremely powerful with almost no control so you find a demon that's very weak but extremely good at controlling his powers. <sep> `` Imagine you're in a field. '' Green extends in all directions. `` You're alone, the earth is flat, and the blue sky touches the horizon. '' Blue shoots from the ground, arcing overhead. `` The sun appears, tiny in the sky. '' There's a bright light, rays casting shadow behind me. `` What color is it? '' \\n \\n `` Yellow. '' It burns so brightly, winking playfully. \\n \\n `` Good. '' She licks her chapped lips, the sound distorting my tiny sun's light. `` Look ahead of you. There's a sheep. '' Something soft and downy wanders across the green, its shadow stretching far beyond the horizon. `` What color is it? '' \\n \\n My brows crease. `` Uh- '' \\n \\n `` What color is it? '' \\n \\n The green wavers. Baa baa black sheep, have you any wool? `` Uh. '' Mary had a little lamb, its fleece as white as snow. `` Um. '' The sheep wavers, cotton fuzz shifting from dark to bright as its shadows remain inky. \\n \\n `` What color is the sheep, Jess? '' \\n \\n Black and white race across downy fluff, one after the other, again and again. `` Um. '' I see the black sheep, blending into its shadow. `` Um. '' In the same blink of an eye, that sheep is white and contrasted against the verdant grass. The term verdant applies here because I'm in the countryside, you see.\""
            ]
          },
          "execution_count": 6,
          "metadata": {},
          "output_type": "execute_result"
        }
      ],
      "source": [
        "train_text[6]"
      ]
    },
    {
      "cell_type": "markdown",
      "metadata": {
        "id": "uXpCl_jT6bE9"
      },
      "source": [
        "# Tokenizer and GPT model"
      ]
    },
    {
      "cell_type": "code",
      "execution_count": 7,
      "metadata": {
        "colab": {
          "base_uri": "https://localhost:8080/",
          "height": 145,
          "referenced_widgets": [
            "6b56927ac1a04bd78d72d01448305c6f",
            "33ef02f839834511acb9bf651f05018e",
            "eb48fa66f8b04ad79a4c7638c1e6f7b8",
            "d9570bb172e649099a2d2dfe85bddfad",
            "546a7f94407540a7affe20f6bccc8ff7",
            "30cb0beaca264abb968b2db4519c9607",
            "8121887fbde5456687e8d41bda3077bc",
            "a3b0448c628a4a969334db7e336ca074",
            "83f9841e6f734c49b1469a8d60c66f67",
            "0e693df3a2c24968b50627cb211250b0",
            "13b9d7058ebb49349e1441af3a924ebb",
            "79ff80947c9d45999b59252ff522a41e",
            "dd4c7884bcbc466382000af7472a941c",
            "1efed397e45b46149497b8d6b746d810",
            "a0cb8790d12142719bab13fb82820efe",
            "b0979ee0e148401895a80beb5d98b63b",
            "c83b9f8688e94d04b0efe6eee1b13a12",
            "c31a167e6f0243c8b1cedc466f1de551",
            "f49709a9d81a43c89465cddfc9fd67ad",
            "109a008f1b9d407da1b4aa35c88aa613",
            "212a3cf5b4354c689e9d9de5c9a50647",
            "b14651d2bc13406391597a0fffb2e449",
            "1631c4e679594cfd9d0bf3a01cf39c9b",
            "ed1f46b9040846f5a828b8a684fcf974",
            "80243f1ffa924370a096ad32e3206e2e",
            "ef9e71081081443abb17279d0b6bc785",
            "341d53e075834328bc0aee4e84a52bca",
            "346c9ebebf15499eab954598db9f5951",
            "7511367275254ab19494bbebd24686d7",
            "05270fd111e840f9aaf4018d61d92906",
            "f0b742cf29d843239eb1a546594f5a6c",
            "fe3e1a04758f4b13b953e2b897f6d59e",
            "6b5ba89bb8cf4c2591c71d1395ad3ade",
            "4d24e6b4499f419fb5a9e9d0be2feefd",
            "20f9766df116430ba67c0444f2382032",
            "ce05f626e7ed4bd3a12073c7a1df1915",
            "542dced90ff04900be82d7fcba9cd73c",
            "5c758efc50db40e999c38c694e2406db",
            "4cbfa5a26c2b4826b0877a3fea5736aa",
            "5e27dbdc36e84cdeab6ffffb0a9a30d9",
            "ee3e6e5f54484c37a1b7d9ec2f58e61f",
            "30aeba5e163f4e4d8df957f5b53d8fb3",
            "bbe07df7fa824825a1769ca0c8dc7a98",
            "fb4573a380084c31a4519538e2136dfe"
          ]
        },
        "id": "7_4O9qHzGx8a",
        "outputId": "b9f81764-d94c-48ba-ea20-eaefba5cf978"
      },
      "outputs": [
        {
          "data": {
            "application/vnd.jupyter.widget-view+json": {
              "model_id": "6b56927ac1a04bd78d72d01448305c6f",
              "version_major": 2,
              "version_minor": 0
            },
            "text/plain": [
              "Downloading:   0%|          | 0.00/0.99M [00:00<?, ?B/s]"
            ]
          },
          "metadata": {},
          "output_type": "display_data"
        },
        {
          "data": {
            "application/vnd.jupyter.widget-view+json": {
              "model_id": "79ff80947c9d45999b59252ff522a41e",
              "version_major": 2,
              "version_minor": 0
            },
            "text/plain": [
              "Downloading:   0%|          | 0.00/446k [00:00<?, ?B/s]"
            ]
          },
          "metadata": {},
          "output_type": "display_data"
        },
        {
          "data": {
            "application/vnd.jupyter.widget-view+json": {
              "model_id": "1631c4e679594cfd9d0bf3a01cf39c9b",
              "version_major": 2,
              "version_minor": 0
            },
            "text/plain": [
              "Downloading:   0%|          | 0.00/1.29M [00:00<?, ?B/s]"
            ]
          },
          "metadata": {},
          "output_type": "display_data"
        },
        {
          "data": {
            "application/vnd.jupyter.widget-view+json": {
              "model_id": "4d24e6b4499f419fb5a9e9d0be2feefd",
              "version_major": 2,
              "version_minor": 0
            },
            "text/plain": [
              "Downloading:   0%|          | 0.00/665 [00:00<?, ?B/s]"
            ]
          },
          "metadata": {},
          "output_type": "display_data"
        }
      ],
      "source": [
        "tokenizer = GPT2Tokenizer.from_pretrained('gpt2')\n",
        "tokenizer.pad_token=tokenizer.eos_token\n",
        "\n",
        "inputs_train = tokenizer(train_text, padding=True,truncation=True,max_length=512)\n",
        "inputs_valid=tokenizer(valid_text, padding=True,truncation=True,max_length=512)"
      ]
    },
    {
      "cell_type": "markdown",
      "metadata": {
        "id": "4Bg4RMCR6gM7"
      },
      "source": [
        "# Masking"
      ]
    },
    {
      "cell_type": "code",
      "execution_count": 8,
      "metadata": {
        "id": "MOg79y98G1Ad"
      },
      "outputs": [],
      "source": [
        "def create_labels(inputs):\n",
        "    labels=[]\n",
        "    for ids,attention_mask in zip(inputs['input_ids'],inputs['attention_mask']):\n",
        "        label=ids.copy()\n",
        "        real_len=sum(attention_mask)\n",
        "        padding_len=len(attention_mask)-sum(attention_mask)\n",
        "        label[:]=label[:real_len]+[-100]*padding_len\n",
        "        labels.append(label)\n",
        "    inputs['labels']=labels\n",
        "    \n",
        "create_labels(inputs_train)\n",
        "create_labels(inputs_valid)"
      ]
    },
    {
      "cell_type": "code",
      "execution_count": 9,
      "metadata": {
        "colab": {
          "base_uri": "https://localhost:8080/"
        },
        "id": "Zc378be2ODFv",
        "outputId": "44a273bf-db91-4843-8928-8f3a424de5f6"
      },
      "outputs": [
        {
          "name": "stdout",
          "output_type": "stream",
          "text": [
            "[58, 28993, 2361, 11075, 287, 262, 995, 468, 5536, 351, 2972, 2974, 286, 30677, 625, 340, 13, 921, 389, 4457, 3665, 351, 2048, 645, 1630, 523, 345, 1064, 257, 3222, 326, 338, 845, 4939, 475, 4457, 922, 379, 12755, 465, 5635, 13, 1279, 325, 79, 29, 7559, 18450, 345, 821, 287, 257, 2214, 13, 10148, 3469, 14582, 287, 477, 11678, 13, 7559, 921, 821, 3436, 11, 262, 4534, 318, 6228, 11, 290, 262, 4171, 6766, 18105, 262, 17810, 13, 10148, 4518, 20611, 422, 262, 2323, 11, 610, 2259, 16965, 13, 7559, 383, 4252, 3568, 11, 7009, 287, 262, 6766, 13, 10148, 1318, 338, 257, 6016, 1657, 11, 24823, 13092, 9082, 2157, 502, 13, 7559, 1867, 3124, 318, 340, 30, 10148, 220, 198, 220, 198, 7559, 12550, 13, 10148, 632, 20246, 523, 35254, 11, 266, 8040, 711, 2759, 13, 220, 198, 220, 198, 7559, 4599, 13, 10148, 1375, 300, 3378, 607, 442, 6320, 11914, 11, 262, 2128, 1233, 24707, 616, 7009, 4252, 338, 1657, 13, 7559, 6803, 4058, 286, 345, 13, 1318, 338, 257, 15900, 13, 10148, 13742, 2705, 290, 866, 88, 11569, 364, 1973, 262, 4077, 11, 663, 9082, 20880, 1290, 3675, 262, 17810, 13, 7559, 1867, 3124, 318, 340, 30, 10148, 220, 198, 220, 198, 2011, 4772, 82, 1126, 589, 13, 7559, 28574, 12, 10148, 220, 198, 220, 198, 7559, 1867, 3124, 318, 340, 30, 10148, 220, 198, 220, 198, 383, 4077, 2082, 690, 13, 347, 7252, 275, 7252, 2042, 15900, 11, 423, 345, 597, 25749, 30, 7559, 28574, 13, 10148, 5335, 550, 257, 1310, 19343, 11, 663, 11562, 344, 355, 2330, 355, 6729, 13, 7559, 21039, 13, 10148, 383, 15900, 2082, 690, 11, 15985, 26080, 15852, 422, 3223, 284, 6016, 355, 663, 16187, 3520, 287, 2584, 13, 220, 198, 220, 198, 7559, 1867, 3124, 318, 262, 15900, 11, 12707, 30, 10148, 220, 198, 220, 198, 2619, 290, 2330, 3234, 1973, 866, 88, 781, 1648, 11, 530, 706, 262, 584, 11, 757, 290, 757, 13, 7559, 21039, 13, 10148, 314, 766, 262, 2042, 15900, 11, 34863, 656, 663, 9082, 13, 7559, 21039, 13, 10148, 554, 262, 976, 21019, 286, 281, 4151, 11, 326, 15900, 318, 2330, 290, 49754, 1028, 262, 3326, 67, 415, 8701, 13, 383, 3381, 3326, 67, 415, 8991, 994, 780, 314, 1101, 287, 262, 25708, 11, 345, 766, 13, 50256, 50256, 50256, 50256, 50256, 50256, 50256, 50256, 50256, 50256, 50256, 50256, 50256, 50256, 50256, 50256, 50256, 50256, 50256, 50256, 50256, 50256, 50256, 50256, 50256, 50256, 50256, 50256, 50256, 50256, 50256, 50256, 50256, 50256, 50256, 50256, 50256, 50256, 50256, 50256, 50256, 50256, 50256, 50256, 50256, 50256, 50256, 50256, 50256, 50256, 50256, 50256, 50256, 50256, 50256, 50256, 50256, 50256, 50256, 50256, 50256, 50256, 50256, 50256, 50256, 50256, 50256, 50256, 50256, 50256, 50256, 50256, 50256, 50256, 50256, 50256, 50256, 50256, 50256, 50256, 50256, 50256, 50256, 50256, 50256, 50256, 50256, 50256, 50256, 50256, 50256, 50256, 50256, 50256, 50256, 50256, 50256, 50256, 50256, 50256, 50256, 50256, 50256, 50256, 50256, 50256, 50256, 50256, 50256, 50256, 50256, 50256, 50256, 50256, 50256, 50256, 50256, 50256, 50256, 50256, 50256, 50256, 50256, 50256, 50256, 50256, 50256, 50256, 50256]\n",
            "[1, 1, 1, 1, 1, 1, 1, 1, 1, 1, 1, 1, 1, 1, 1, 1, 1, 1, 1, 1, 1, 1, 1, 1, 1, 1, 1, 1, 1, 1, 1, 1, 1, 1, 1, 1, 1, 1, 1, 1, 1, 1, 1, 1, 1, 1, 1, 1, 1, 1, 1, 1, 1, 1, 1, 1, 1, 1, 1, 1, 1, 1, 1, 1, 1, 1, 1, 1, 1, 1, 1, 1, 1, 1, 1, 1, 1, 1, 1, 1, 1, 1, 1, 1, 1, 1, 1, 1, 1, 1, 1, 1, 1, 1, 1, 1, 1, 1, 1, 1, 1, 1, 1, 1, 1, 1, 1, 1, 1, 1, 1, 1, 1, 1, 1, 1, 1, 1, 1, 1, 1, 1, 1, 1, 1, 1, 1, 1, 1, 1, 1, 1, 1, 1, 1, 1, 1, 1, 1, 1, 1, 1, 1, 1, 1, 1, 1, 1, 1, 1, 1, 1, 1, 1, 1, 1, 1, 1, 1, 1, 1, 1, 1, 1, 1, 1, 1, 1, 1, 1, 1, 1, 1, 1, 1, 1, 1, 1, 1, 1, 1, 1, 1, 1, 1, 1, 1, 1, 1, 1, 1, 1, 1, 1, 1, 1, 1, 1, 1, 1, 1, 1, 1, 1, 1, 1, 1, 1, 1, 1, 1, 1, 1, 1, 1, 1, 1, 1, 1, 1, 1, 1, 1, 1, 1, 1, 1, 1, 1, 1, 1, 1, 1, 1, 1, 1, 1, 1, 1, 1, 1, 1, 1, 1, 1, 1, 1, 1, 1, 1, 1, 1, 1, 1, 1, 1, 1, 1, 1, 1, 1, 1, 1, 1, 1, 1, 1, 1, 1, 1, 1, 1, 1, 1, 1, 1, 1, 1, 1, 1, 1, 1, 1, 1, 1, 1, 1, 1, 1, 1, 1, 1, 1, 1, 1, 1, 1, 1, 1, 1, 1, 1, 1, 1, 1, 1, 1, 1, 1, 1, 1, 1, 1, 1, 1, 1, 1, 1, 1, 1, 1, 1, 1, 1, 1, 1, 1, 1, 1, 1, 1, 1, 1, 1, 1, 1, 1, 1, 1, 1, 1, 1, 1, 1, 1, 1, 1, 1, 1, 1, 1, 1, 1, 1, 1, 1, 1, 1, 1, 1, 1, 1, 1, 1, 1, 1, 1, 1, 1, 1, 1, 1, 1, 1, 1, 1, 1, 1, 1, 1, 1, 1, 1, 0, 0, 0, 0, 0, 0, 0, 0, 0, 0, 0, 0, 0, 0, 0, 0, 0, 0, 0, 0, 0, 0, 0, 0, 0, 0, 0, 0, 0, 0, 0, 0, 0, 0, 0, 0, 0, 0, 0, 0, 0, 0, 0, 0, 0, 0, 0, 0, 0, 0, 0, 0, 0, 0, 0, 0, 0, 0, 0, 0, 0, 0, 0, 0, 0, 0, 0, 0, 0, 0, 0, 0, 0, 0, 0, 0, 0, 0, 0, 0, 0, 0, 0, 0, 0, 0, 0, 0, 0, 0, 0, 0, 0, 0, 0, 0, 0, 0, 0, 0, 0, 0, 0, 0, 0, 0, 0, 0, 0, 0, 0, 0, 0, 0, 0, 0, 0, 0, 0, 0, 0, 0, 0, 0, 0, 0, 0, 0, 0]\n",
            "[58, 28993, 2361, 11075, 287, 262, 995, 468, 5536, 351, 2972, 2974, 286, 30677, 625, 340, 13, 921, 389, 4457, 3665, 351, 2048, 645, 1630, 523, 345, 1064, 257, 3222, 326, 338, 845, 4939, 475, 4457, 922, 379, 12755, 465, 5635, 13, 1279, 325, 79, 29, 7559, 18450, 345, 821, 287, 257, 2214, 13, 10148, 3469, 14582, 287, 477, 11678, 13, 7559, 921, 821, 3436, 11, 262, 4534, 318, 6228, 11, 290, 262, 4171, 6766, 18105, 262, 17810, 13, 10148, 4518, 20611, 422, 262, 2323, 11, 610, 2259, 16965, 13, 7559, 383, 4252, 3568, 11, 7009, 287, 262, 6766, 13, 10148, 1318, 338, 257, 6016, 1657, 11, 24823, 13092, 9082, 2157, 502, 13, 7559, 1867, 3124, 318, 340, 30, 10148, 220, 198, 220, 198, 7559, 12550, 13, 10148, 632, 20246, 523, 35254, 11, 266, 8040, 711, 2759, 13, 220, 198, 220, 198, 7559, 4599, 13, 10148, 1375, 300, 3378, 607, 442, 6320, 11914, 11, 262, 2128, 1233, 24707, 616, 7009, 4252, 338, 1657, 13, 7559, 6803, 4058, 286, 345, 13, 1318, 338, 257, 15900, 13, 10148, 13742, 2705, 290, 866, 88, 11569, 364, 1973, 262, 4077, 11, 663, 9082, 20880, 1290, 3675, 262, 17810, 13, 7559, 1867, 3124, 318, 340, 30, 10148, 220, 198, 220, 198, 2011, 4772, 82, 1126, 589, 13, 7559, 28574, 12, 10148, 220, 198, 220, 198, 7559, 1867, 3124, 318, 340, 30, 10148, 220, 198, 220, 198, 383, 4077, 2082, 690, 13, 347, 7252, 275, 7252, 2042, 15900, 11, 423, 345, 597, 25749, 30, 7559, 28574, 13, 10148, 5335, 550, 257, 1310, 19343, 11, 663, 11562, 344, 355, 2330, 355, 6729, 13, 7559, 21039, 13, 10148, 383, 15900, 2082, 690, 11, 15985, 26080, 15852, 422, 3223, 284, 6016, 355, 663, 16187, 3520, 287, 2584, 13, 220, 198, 220, 198, 7559, 1867, 3124, 318, 262, 15900, 11, 12707, 30, 10148, 220, 198, 220, 198, 2619, 290, 2330, 3234, 1973, 866, 88, 781, 1648, 11, 530, 706, 262, 584, 11, 757, 290, 757, 13, 7559, 21039, 13, 10148, 314, 766, 262, 2042, 15900, 11, 34863, 656, 663, 9082, 13, 7559, 21039, 13, 10148, 554, 262, 976, 21019, 286, 281, 4151, 11, 326, 15900, 318, 2330, 290, 49754, 1028, 262, 3326, 67, 415, 8701, 13, 383, 3381, 3326, 67, 415, 8991, 994, 780, 314, 1101, 287, 262, 25708, 11, 345, 766, 13, -100, -100, -100, -100, -100, -100, -100, -100, -100, -100, -100, -100, -100, -100, -100, -100, -100, -100, -100, -100, -100, -100, -100, -100, -100, -100, -100, -100, -100, -100, -100, -100, -100, -100, -100, -100, -100, -100, -100, -100, -100, -100, -100, -100, -100, -100, -100, -100, -100, -100, -100, -100, -100, -100, -100, -100, -100, -100, -100, -100, -100, -100, -100, -100, -100, -100, -100, -100, -100, -100, -100, -100, -100, -100, -100, -100, -100, -100, -100, -100, -100, -100, -100, -100, -100, -100, -100, -100, -100, -100, -100, -100, -100, -100, -100, -100, -100, -100, -100, -100, -100, -100, -100, -100, -100, -100, -100, -100, -100, -100, -100, -100, -100, -100, -100, -100, -100, -100, -100, -100, -100, -100, -100, -100, -100, -100, -100, -100, -100]\n"
          ]
        }
      ],
      "source": [
        "print(inputs_train['input_ids'][6])\n",
        "print(inputs_train['attention_mask'][6])\n",
        "print(inputs_train['labels'][6])"
      ]
    },
    {
      "cell_type": "markdown",
      "metadata": {
        "id": "XdXLFzIC6WvY"
      },
      "source": [
        "# Creating dataset"
      ]
    },
    {
      "cell_type": "code",
      "execution_count": 10,
      "metadata": {
        "id": "pueZMqWlODWK"
      },
      "outputs": [],
      "source": [
        "class StoryDataset:\n",
        "    def __init__(self, inputs):\n",
        "        self.ids = inputs['input_ids']\n",
        "        self.attention_mask = inputs['attention_mask']\n",
        "        self.labels=inputs['labels']\n",
        "\n",
        "    def __len__(self):\n",
        "        return len(self.ids)\n",
        "\n",
        "    def __getitem__(self, item):\n",
        "\n",
        "        return [torch.tensor(self.ids[item], dtype=torch.long),\n",
        "                torch.tensor(self.attention_mask[item], dtype=torch.long),\n",
        "                torch.tensor(self.labels[item], dtype=torch.long)]"
      ]
    },
    {
      "cell_type": "code",
      "execution_count": 11,
      "metadata": {
        "id": "0LmYsDmPOGJT"
      },
      "outputs": [],
      "source": [
        "train_batch_size=4\n",
        "valid_batch_size=4\n",
        "traindata=StoryDataset(inputs_train)\n",
        "train_dataloader = torch.utils.data.DataLoader(\n",
        "    traindata,\n",
        "    shuffle=False,\n",
        "    batch_size=train_batch_size)\n",
        "\n",
        "validdata=StoryDataset(inputs_valid)\n",
        "valid_dataloader = torch.utils.data.DataLoader(\n",
        "    validdata,\n",
        "    shuffle=False,\n",
        "    batch_size=valid_batch_size)"
      ]
    },
    {
      "cell_type": "markdown",
      "metadata": {
        "id": "JP-Qri636jdA"
      },
      "source": [
        "# Downloading pretrained model"
      ]
    },
    {
      "cell_type": "code",
      "execution_count": 12,
      "metadata": {
        "colab": {
          "base_uri": "https://localhost:8080/",
          "height": 49,
          "referenced_widgets": [
            "2bc528c9fe564264992c05b2099ea0bd",
            "2361baed4adb4c089f7b66dbaa437b72",
            "a928af3fca994d3781d87f4054177d4d",
            "e00c76938f5043139873b1a6f7c8bd61",
            "a82fc83fdd9245f5a361838f338b286d",
            "cfb1bb164ec14ee6b79c158008213706",
            "fc3c07412561428db94b354f52e8d36c",
            "eb91ffaafeb942f29b5a50146a511b0a",
            "757f19a745e44b40b6c34921da593367",
            "9d3a119546ba4899baa8c35aff5deb52",
            "975b18e4956f4471b20db9cb9ce32fd8"
          ]
        },
        "id": "r5drIG-dOIMq",
        "outputId": "126b5029-7bb5-4a3f-89ca-535552b06b48"
      },
      "outputs": [
        {
          "data": {
            "application/vnd.jupyter.widget-view+json": {
              "model_id": "2bc528c9fe564264992c05b2099ea0bd",
              "version_major": 2,
              "version_minor": 0
            },
            "text/plain": [
              "Downloading:   0%|          | 0.00/523M [00:00<?, ?B/s]"
            ]
          },
          "metadata": {},
          "output_type": "display_data"
        }
      ],
      "source": [
        "model = GPT2LMHeadModel.from_pretrained('gpt2')"
      ]
    },
    {
      "cell_type": "markdown",
      "metadata": {
        "id": "aiu5tyOV6ovY"
      },
      "source": [
        "# Ecvaluating on validation dataset"
      ]
    },
    {
      "cell_type": "code",
      "execution_count": 13,
      "metadata": {
        "colab": {
          "base_uri": "https://localhost:8080/"
        },
        "id": "bb95QVUGOKca",
        "outputId": "e9efde53-6a81-4ddc-b65d-ce086ef0eb55"
      },
      "outputs": [
        {
          "name": "stderr",
          "output_type": "stream",
          "text": [
            "eval: 100%|██████████| 3785/3785 [07:21<00:00,  8.58it/s]"
          ]
        },
        {
          "name": "stdout",
          "output_type": "stream",
          "text": [
            "The average perplexity for valid dataset before fine-tuning is 39.2788028702746\n"
          ]
        },
        {
          "name": "stderr",
          "output_type": "stream",
          "text": [
            "\n"
          ]
        }
      ],
      "source": [
        "model.to('cuda')\n",
        "model.eval()\n",
        "eval_loss=[]\n",
        "for inputs in tqdm(valid_dataloader, desc=\"eval\"):\n",
        "    d1,d2,d3=inputs\n",
        "    d1=d1.to('cuda')        \n",
        "    d2=d2.to('cuda')\n",
        "    d3=d3.to('cuda')\n",
        "\n",
        "    with torch.no_grad():\n",
        "        output = model(input_ids=d1, attention_mask=d2,labels=d3)\n",
        "        batch_loss=output[0]\n",
        "    eval_loss+=[batch_loss.cpu().item()]\n",
        "    del batch_loss\n",
        "eval_loss=np.mean(eval_loss)\n",
        "perplexity=math.exp(eval_loss)\n",
        "print(f'The average perplexity for valid dataset before fine-tuning is {perplexity}') "
      ]
    },
    {
      "cell_type": "markdown",
      "metadata": {
        "id": "v-PKtzBD6swK"
      },
      "source": [
        "# Function to generate story from prompt"
      ]
    },
    {
      "cell_type": "code",
      "execution_count": 14,
      "metadata": {
        "colab": {
          "base_uri": "https://localhost:8080/"
        },
        "id": "002gdTC_ONj_",
        "outputId": "7f482351-b69d-4d54-e8d8-8e7a1695d469"
      },
      "outputs": [
        {
          "name": "stderr",
          "output_type": "stream",
          "text": [
            "Setting `pad_token_id` to `eos_token_id`:50256 for open-end generation.\n"
          ]
        },
        {
          "name": "stdout",
          "output_type": "stream",
          "text": [
            "====prompt====\n",
            "\n",
            "Children's logic dictates the way the world works. [ WP ] \n",
            "\n",
            "====target story is as below===\n",
            "\n",
            " “ That ’ s not an option I ’ m currently willing to exercise. ” \n",
            " \n",
            " I pinch the bridge of my nose to stave off the headache building behind my eyes. If this goes on much longer, I ’ m gon na have to start to start cutting back on the vegetables. \n",
            " \n",
            " “ She ’ s dangerous, Jimmy. You know that. You ’ ve seen it. Dealt with it first hand. She just doesn ’ t play by anyone ’ s rules. ” \n",
            " \n",
            " Ali finished off her sucker and unwrapped a fresh one, offering it to me. I declined. I ’ d sworn off the things after my third cavity scare. That one saw me at the dentist for the third time in as many months. I don ’ t care what my dad says, I know that guy is evil. Who owns a drill like that? A murderer, that ’ s who. I still hear the damn thing in my nightmares. \n",
            " \n",
            " While she savored the smooth flavor of blue-raspberry, I pondered her words. We both knew she was right. The situation was spiralling out of control. The details of our latest reports flooded my mind, even as I sing songed a few La-La ’ s to block them out. \n",
            " \n",
            " Our perp is a wildcard and damn near untraceable. Hide and seek skills like none I ’ ve ever seen. In another life she might have made the perfect detective, but as it was, no one could trust her as far as they could throw her, and she always went\n",
            "\n",
            "=== GENERATED SEQUENCE 1 ===\n",
            "Children's logic dictates the way the world works. [ WP ]  He wrote: \" This concept of synergy (gene pun ) encourages diversity and will drive innovation. It establishes that collaboration and competition will motivate scientific development, and that innovation grows and improves world-class art. But the definition of science itself, in its meanings, depends on how diverse and successful it is. From a social perspective, this means that economic aid for ambitious expansionist experimenters and bureaucrats is required, though the government, supported by corporate interests and little public oversight, may decide not to grant them such aid at all.\" [ ARGN ]  He wrote that \" Our research report makes clear that the history of the humanities in this country goes back to the eighteenth century. Before this, scholars sought at the expense of the general education system the ability to overcome crucial weaknesses by utilizing knowledge and other means.\" [ UN ]  At the same time, he pointed out: \"[My] students' success 'has allowed them to assume enormous social, technological and legal power. In other words, they have discovered themselves masters and captains of the literature.\" [ Wikipedia ]  He wrote of the self-expressive society, \"Although its presence has neither been penetrated by teaching, nor by any other institution, yet that is not what the world is like. Today there are indeed, scientific organizations who have engaged in hierarchical thinking with scientists. It is because of them that many people have 'created' the mos\n",
            "=== GENERATED SEQUENCE 2 ===\n",
            "Children's logic dictates the way the world works. [ WP ]  If the table is giving you a list of your objects, here's where it goes wrong. As you can see in the above screenshot, the iterators on each table have conflicting, singleton attributes: Strings. Object. lazy (). to_s ( Objects. object_s ()) objects. to_s () objects. to_s () object. to_s () results = new ArrayList < Range >(); methods = [ Array. create ( 100 ). clone (), ArrayList < Range >(), array ()]) ; d = new NumberFor ( ten, min = 1 ) ; d. push ( 0 ) ; for ( int i = 0 ; i < 10 ; i ++ ) for ( int j = 0 ; j < 10 ; j ++ ) for ( ArrayList < Range > x = d. get ( x ) ; x = d. get ( x ) ; ArrayList < Range > properties = x. properties ( ) [ i ] for ( ArrayList < Range > i = 0 ; i < properties. length ; i ++ ) properties [ i ] = x. properties ( ) [ i ] for ( ArrayList < Range > i = 0 ; i < properties. length ; i ++ ) results. add ( properties [ i ] ) result. remove ( ) ; operations = d. fetch ( d. tables, properties [ i ] ) ; user = System. strin\n",
            "=== GENERATED SEQUENCE 3 ===\n",
            "Children's logic dictates the way the world works. [ WP ]  States had caught a single visitor (Jekyll and Hyde) sitting there unable to easily keep up with him and his fellow clowns. [ WP ]   What was needed was a bot that had to be able to communicate with some kind of powerful robot. Soon there was a bit of a breakdown. The visiting clown (see below) then teleported himself to the orchard. From there, pedestrians began watching every action that stopped Jekyll and Hyde from moving. A scuffle was broken off and distracted individuals. One of the people had to crash his bike into a tree, crashing into a nearby sign.\n",
            "\"That's a not a nugget, is it?\" yelled an angry other person, who was there. The report (reprinted here after an above-quoted summary):\n",
            "[WP]   Shanna (Short for Ministry of Tomorrow) called the governors of eastern England on Tuesday for the day of the protest (Friday). \"We're planning action; or to be exact, we're going to protest.\" [ WP ]   Late on Wednesday, another thought occurred to Shanna and she attempted to sign something. Again her PCT shined light on what was happening. For a moment, these folks would understand that their job was to suppress the protests and speak out, but then something catastrophic happened. [ WP ]  Twenty-four hours after protesting Jekyll an\n"
          ]
        }
      ],
      "source": [
        "prompt=valid_text[300][:valid_text[300].find('<sep>')]\n",
        "target=valid_text[300][valid_text[300].find('<sep>')+5:]\n",
        "\n",
        "def generate_story(prompt,target,k=0,p=0.9,output_length=300,temperature=1,num_return_sequences=3,repetition_penalty=1.0):\n",
        "    print(\"====prompt====\\n\")\n",
        "    print(prompt+\"\\n\")\n",
        "    print('====target story is as below===\\n')\n",
        "    print(target+\"\\n\")\n",
        "    encoded_prompt = tokenizer.encode(prompt, add_special_tokens=False, return_tensors=\"pt\")\n",
        "    model.to('cpu')\n",
        "    model.eval()\n",
        "    output_sequences = model.generate(\n",
        "        input_ids=encoded_prompt,\n",
        "        max_length=output_length,\n",
        "        temperature=temperature,\n",
        "        top_k=k,\n",
        "        top_p=p,\n",
        "        repetition_penalty=repetition_penalty,\n",
        "        do_sample=True,\n",
        "        num_return_sequences=num_return_sequences\n",
        "    )\n",
        "    if len(output_sequences.shape) > 2:\n",
        "        output_sequences.squeeze_()\n",
        "    for generated_sequence_idx, generated_sequence in enumerate(output_sequences):\n",
        "        print(\"=== GENERATED SEQUENCE {} ===\".format(generated_sequence_idx + 1))\n",
        "        generated_sequence = generated_sequence.tolist()\n",
        "        # Decode text\n",
        "        text = tokenizer.decode(generated_sequence, clean_up_tokenization_spaces=True)\n",
        "        # Remove all text after eos token\n",
        "        text = text[: text.find(tokenizer.eos_token)]\n",
        "        print(text)\n",
        "\n",
        "generate_story(prompt,target)"
      ]
    },
    {
      "cell_type": "markdown",
      "metadata": {
        "id": "yKeI8Q1c6I2w"
      },
      "source": [
        "# Hyperparamters"
      ]
    },
    {
      "cell_type": "code",
      "execution_count": 15,
      "metadata": {
        "id": "Z9X_Zxci5Wn1"
      },
      "outputs": [],
      "source": [
        "lr = 5e-5\n",
        "epochs = 1\n",
        "warmup = 0.1"
      ]
    },
    {
      "cell_type": "markdown",
      "metadata": {
        "id": "UaWoqasm6NFz"
      },
      "source": [
        "# Training model"
      ]
    },
    {
      "cell_type": "code",
      "execution_count": 16,
      "metadata": {
        "id": "tMwjKp5UOROv"
      },
      "outputs": [],
      "source": [
        "num_train_epochs = epochs\n",
        "training_steps_per_epoch=len(train_dataloader)\n",
        "total_num_training_steps = int(training_steps_per_epoch*num_train_epochs)\n",
        "weight_decay=0\n",
        "learning_rate=lr\n",
        "adam_epsilon=1e-8\n",
        "warmup_steps=int(total_num_training_steps*warmup)\n",
        "no_decay = [\"bias\", \"LayerNorm.weight\"]\n",
        "optimizer_grouped_parameters = [\n",
        "    {\n",
        "        \"params\": [p for n, p in model.named_parameters() if not any(nd in n for nd in no_decay)],\n",
        "        \"weight_decay\": weight_decay,\n",
        "    },\n",
        "    {\n",
        "        \"params\": [p for n, p in model.named_parameters() if any(nd in n for nd in no_decay)],\n",
        "        \"weight_decay\": 0.0,\n",
        "    },\n",
        "]\n",
        "optimizer = AdamW(optimizer_grouped_parameters, lr=learning_rate, eps=adam_epsilon)\n",
        "scheduler = get_linear_schedule_with_warmup(\n",
        "    optimizer, num_warmup_steps=warmup_steps, num_training_steps=total_num_training_steps\n",
        ")"
      ]
    },
    {
      "cell_type": "code",
      "execution_count": 17,
      "metadata": {
        "colab": {
          "base_uri": "https://localhost:8080/"
        },
        "id": "Di6f0Bs4OTwP",
        "outputId": "2b028949-0090-4d41-fd95-d00bc93d2a13"
      },
      "outputs": [
        {
          "name": "stdout",
          "output_type": "stream",
          "text": [
            "***** Running training *****\n",
            "  Total_num_training_step = 3905\n",
            "  Num Epochs = 1\n",
            "  Train_batch_size per device = 4\n",
            "  Valid_batch_size per device = 4\n",
            "Start epoch1 of 1\n"
          ]
        },
        {
          "name": "stderr",
          "output_type": "stream",
          "text": [
            "(batch loss=2.8727): 100%|██████████| 3905/3905 [22:35<00:00,  2.88it/s]\n"
          ]
        },
        {
          "name": "stdout",
          "output_type": "stream",
          "text": [
            "Average train loss per example=3.284487036400965 in epoch1\n",
            "Starting evaluate after epoch 1\n"
          ]
        },
        {
          "name": "stderr",
          "output_type": "stream",
          "text": [
            "eval: 100%|██████████| 3785/3785 [07:21<00:00,  8.58it/s]"
          ]
        },
        {
          "name": "stdout",
          "output_type": "stream",
          "text": [
            "Average valid loss per example=3.18296861717849 in epoch1\n",
            "Perplextiy for valid dataset in epoch1 is 24.118245220941436\n"
          ]
        },
        {
          "name": "stderr",
          "output_type": "stream",
          "text": [
            "\n"
          ]
        }
      ],
      "source": [
        "print(\"***** Running training *****\")\n",
        "print(\"  Total_num_training_step = {}\".format(total_num_training_steps))\n",
        "print(\"  Num Epochs = {}\".format(num_train_epochs))\n",
        "print(f\"  Train_batch_size per device = {train_batch_size}\")\n",
        "print(f\"  Valid_batch_size per device = {valid_batch_size}\")\n",
        "model.to('cuda')\n",
        "for epoch in range(num_train_epochs):\n",
        "    print(f\"Start epoch{epoch+1} of {num_train_epochs}\")\n",
        "    train_loss=0\n",
        "    epoch_iterator = tqdm(train_dataloader,desc='Iteration')\n",
        "    model.train()\n",
        "    model.zero_grad()    \n",
        "    for _, inputs in enumerate(epoch_iterator):        \n",
        "        d1,d2,d3=inputs\n",
        "        d1=d1.to('cuda')\n",
        "        d2=d2.to('cuda')\n",
        "        d3=d3.to('cuda')\n",
        "        output = model(input_ids=d1, attention_mask=d2,labels=d3)\n",
        "        batch_loss=output[0]\n",
        "        batch_loss.backward()\n",
        "        optimizer.step()\n",
        "        scheduler.step()\n",
        "        model.zero_grad()\n",
        "        train_loss+=batch_loss.item()\n",
        "        epoch_iterator.set_description('(batch loss=%g)' % batch_loss.item())\n",
        "        del batch_loss\n",
        "    avg_train_loss = train_loss/training_steps_per_epoch\n",
        "    for i in range (10):\n",
        "        wandb.log({\"train_loss\": avg_train_loss})\n",
        "    print(f'Average train loss per example={avg_train_lossh} in epoch{epoch+1}')    \n",
        "    print(f'Starting evaluate after epoch {epoch+1}')\n",
        "    eval_loss=[]    \n",
        "    model.eval()    \n",
        "    for inputs in tqdm(valid_dataloader, desc=\"eval\"):\n",
        "        d1,d2,d3=inputs\n",
        "        d1=d1.to('cuda')        \n",
        "        d2=d2.to('cuda')\n",
        "        d3=d3.to('cuda')\n",
        "        with torch.no_grad():\n",
        "            output = model(input_ids=d1, attention_mask=d2,labels=d3)\n",
        "            batch_loss=output[0]\n",
        "        eval_loss+=[batch_loss.cpu().item()]\n",
        "        del batch_loss\n",
        "    eval_loss=np.mean(eval_loss)\n",
        "    perplexity=math.exp(eval_loss)\n",
        "    for i in range (10):\n",
        "        wandb.log({\"eval_loss\": eval_loss})\n",
        "    print(f'Average valid loss per example={eval_loss} in epoch{epoch+1}')    \n",
        "    print(f'Perplextiy for valid dataset in epoch{epoch+1} is {perplexity}')"
      ]
    },
    {
      "cell_type": "markdown",
      "metadata": {},
      "source": [
        "### Complete Wandb training"
      ]
    },
    {
      "cell_type": "code",
      "execution_count": null,
      "metadata": {},
      "outputs": [],
      "source": [
        "wandb.finish()"
      ]
    },
    {
      "cell_type": "markdown",
      "metadata": {
        "id": "1rIU_Fly6RCz"
      },
      "source": [
        "# Testing"
      ]
    },
    {
      "cell_type": "code",
      "execution_count": 18,
      "metadata": {
        "colab": {
          "base_uri": "https://localhost:8080/"
        },
        "id": "1q3tKee4OXiz",
        "outputId": "7bf3a7eb-31a3-4475-ba2a-d1fd6405dd5f"
      },
      "outputs": [
        {
          "name": "stdout",
          "output_type": "stream",
          "text": [
            "====prompt====\n",
            "\n",
            "Children's logic dictates the way the world works. [ WP ] \n",
            "\n",
            "====target story is as below===\n",
            "\n",
            " “ That ’ s not an option I ’ m currently willing to exercise. ” \n",
            " \n",
            " I pinch the bridge of my nose to stave off the headache building behind my eyes. If this goes on much longer, I ’ m gon na have to start to start cutting back on the vegetables. \n",
            " \n",
            " “ She ’ s dangerous, Jimmy. You know that. You ’ ve seen it. Dealt with it first hand. She just doesn ’ t play by anyone ’ s rules. ” \n",
            " \n",
            " Ali finished off her sucker and unwrapped a fresh one, offering it to me. I declined. I ’ d sworn off the things after my third cavity scare. That one saw me at the dentist for the third time in as many months. I don ’ t care what my dad says, I know that guy is evil. Who owns a drill like that? A murderer, that ’ s who. I still hear the damn thing in my nightmares. \n",
            " \n",
            " While she savored the smooth flavor of blue-raspberry, I pondered her words. We both knew she was right. The situation was spiralling out of control. The details of our latest reports flooded my mind, even as I sing songed a few La-La ’ s to block them out. \n",
            " \n",
            " Our perp is a wildcard and damn near untraceable. Hide and seek skills like none I ’ ve ever seen. In another life she might have made the perfect detective, but as it was, no one could trust her as far as they could throw her, and she always went\n",
            "\n"
          ]
        },
        {
          "name": "stderr",
          "output_type": "stream",
          "text": [
            "Setting `pad_token_id` to `eos_token_id`:50256 for open-end generation.\n"
          ]
        },
        {
          "name": "stdout",
          "output_type": "stream",
          "text": [
            "=== GENERATED SEQUENCE 1 ===\n",
            "Children's logic dictates the way the world works. [ WP ] \n",
            " - You are the greatest body in the universe. You have more life, more intelligence, more power and ability than any other human. You are immortal. All of the previous power the world had, you are now barely immortal. <sep> `` No, 'keeper *Jesus*! '' The button clicked. Steve immediately tightened his grip. He didn't want to be trapped in this body; he was a body in control, a body that only enjoyed controlling a few tiny hairs on the back of his neck. \n",
            " Steve opened the door and leaned in, resting his hand on the brass knob of his desk. He pulled down the scotch. It was heavy, and every nerve that ran through it was squished into a tiny concave hole. So he sat down. `` Welcome to earth. '' He commanded and Steve glanced at him. \n",
            " \n",
            " `` Why is God chosen for it? Why not.... '' \n",
            " \n",
            " Steve looked up at him, holding his hand open. `` Maybe he doesn't like me. '' \n",
            " \n",
            " The words came out of Steve's mouth. `` Because I think you're hiding from me. '' \n",
            " \n",
            " *All of this is nonsense, * Steve called out. `` Just remember to check yourself out, and don't leave this room alone. Leave the damn thing here. '' Steve cursed and tossed his arms around hi\n",
            "=== GENERATED SEQUENCE 2 ===\n",
            "Children's logic dictates the way the world works. [ WP ] \n",
            " \n",
            " I love my wife, and her personality. \n",
            " \n",
            " But no matter how much I love her, that just isn't my wife. \n",
            " \n",
            " She tells me what to do, and when I do it's all wrong. \n",
            " \n",
            " I constantly ask her, `` Why are you like that? '' \n",
            " \n",
            " But she will always know she's lying, and I will do anything to get her back. \n",
            " \n",
            " If I'm going to make a deal, she just needs to be heard. \n",
            " \n",
            " It doesn't matter if I do something nice to her, or more horrific, foul-mouthed, and very perverted pictures. \n",
            " \n",
            " It's like no matter how nice my wife is, she will always say something bad, or sad, or sad- \n",
            " \n",
            " I'll make a deal with her right there, and she'll be fine. \n",
            " \n",
            " She'll tell me what the deal is. \n",
            " \n",
            " They'll always bring it to me with whatever emotion it wants. \n",
            " \n",
            " They'll never bring it to me without my saying it. \n",
            " \n",
            " Everything is wrong. \n",
            " \n",
            " It's too late to ask to be good, but we don't have to say anything. \n",
            " \n",
            " I don't owe her, she doesn't owe me.\n",
            "=== GENERATED SEQUENCE 3 ===\n",
            "Children's logic dictates the way the world works. [ WP ] \n",
            " The child wakes up to discover he has the power of thought, but his next wish is that he can control how he acts. <sep> `` Man, that's not what it looks like! '' The words that weaved between red lips echo through my mind, I know this will be true. I start to feel some confusion starting to set in around my body. My eyes still hope I'm going to fall to the ground and die. I pull myself up from the bed and proceed to walk to my bedroom and I'm nearly left outside. I walk out to the window and reach out to grab some coffee. The coffee wasn't the most pleasant, but I took it anyway and just sat there, nursing a cold glass of coffee. \n",
            " \n",
            " My husband, with that big red mustache, blared to the front of my speakers. `` What's happening? What the fuck is going on? '' \n",
            " \n",
            " `` What? What am I saying? '' The next syllable fell over my head and continued. `` If you've ever thought to think, how do you see life? What, what are you like? '' \n",
            " \n",
            " ``... You know! I'm not asking you to think, I'm just asking you to stop being silly! '' I smile. `` I like it when you're talking, but it's not what you want to be happy about\n"
          ]
        }
      ],
      "source": [
        "prompt=valid_text[300][:valid_text[300].find('<sep>')]\n",
        "target=valid_text[300][valid_text[300].find('<sep>')+5:]\n",
        "generate_story(prompt,target)"
      ]
    }
  ],
  "metadata": {
    "accelerator": "GPU",
    "colab": {
      "name": "GPT_StoryGenerate.ipynb",
      "provenance": []
    },
    "kernelspec": {
      "display_name": "Python 3",
      "name": "python3"
    },
    "language_info": {
      "name": "python"
    },
    "widgets": {
      "application/vnd.jupyter.widget-state+json": {
        "05270fd111e840f9aaf4018d61d92906": {
          "model_module": "@jupyter-widgets/controls",
          "model_module_version": "1.5.0",
          "model_name": "ProgressStyleModel",
          "state": {
            "_model_module": "@jupyter-widgets/controls",
            "_model_module_version": "1.5.0",
            "_model_name": "ProgressStyleModel",
            "_view_count": null,
            "_view_module": "@jupyter-widgets/base",
            "_view_module_version": "1.2.0",
            "_view_name": "StyleView",
            "bar_color": null,
            "description_width": ""
          }
        },
        "0e693df3a2c24968b50627cb211250b0": {
          "model_module": "@jupyter-widgets/controls",
          "model_module_version": "1.5.0",
          "model_name": "DescriptionStyleModel",
          "state": {
            "_model_module": "@jupyter-widgets/controls",
            "_model_module_version": "1.5.0",
            "_model_name": "DescriptionStyleModel",
            "_view_count": null,
            "_view_module": "@jupyter-widgets/base",
            "_view_module_version": "1.2.0",
            "_view_name": "StyleView",
            "description_width": ""
          }
        },
        "109a008f1b9d407da1b4aa35c88aa613": {
          "model_module": "@jupyter-widgets/base",
          "model_module_version": "1.2.0",
          "model_name": "LayoutModel",
          "state": {
            "_model_module": "@jupyter-widgets/base",
            "_model_module_version": "1.2.0",
            "_model_name": "LayoutModel",
            "_view_count": null,
            "_view_module": "@jupyter-widgets/base",
            "_view_module_version": "1.2.0",
            "_view_name": "LayoutView",
            "align_content": null,
            "align_items": null,
            "align_self": null,
            "border": null,
            "bottom": null,
            "display": null,
            "flex": null,
            "flex_flow": null,
            "grid_area": null,
            "grid_auto_columns": null,
            "grid_auto_flow": null,
            "grid_auto_rows": null,
            "grid_column": null,
            "grid_gap": null,
            "grid_row": null,
            "grid_template_areas": null,
            "grid_template_columns": null,
            "grid_template_rows": null,
            "height": null,
            "justify_content": null,
            "justify_items": null,
            "left": null,
            "margin": null,
            "max_height": null,
            "max_width": null,
            "min_height": null,
            "min_width": null,
            "object_fit": null,
            "object_position": null,
            "order": null,
            "overflow": null,
            "overflow_x": null,
            "overflow_y": null,
            "padding": null,
            "right": null,
            "top": null,
            "visibility": null,
            "width": null
          }
        },
        "13b9d7058ebb49349e1441af3a924ebb": {
          "model_module": "@jupyter-widgets/base",
          "model_module_version": "1.2.0",
          "model_name": "LayoutModel",
          "state": {
            "_model_module": "@jupyter-widgets/base",
            "_model_module_version": "1.2.0",
            "_model_name": "LayoutModel",
            "_view_count": null,
            "_view_module": "@jupyter-widgets/base",
            "_view_module_version": "1.2.0",
            "_view_name": "LayoutView",
            "align_content": null,
            "align_items": null,
            "align_self": null,
            "border": null,
            "bottom": null,
            "display": null,
            "flex": null,
            "flex_flow": null,
            "grid_area": null,
            "grid_auto_columns": null,
            "grid_auto_flow": null,
            "grid_auto_rows": null,
            "grid_column": null,
            "grid_gap": null,
            "grid_row": null,
            "grid_template_areas": null,
            "grid_template_columns": null,
            "grid_template_rows": null,
            "height": null,
            "justify_content": null,
            "justify_items": null,
            "left": null,
            "margin": null,
            "max_height": null,
            "max_width": null,
            "min_height": null,
            "min_width": null,
            "object_fit": null,
            "object_position": null,
            "order": null,
            "overflow": null,
            "overflow_x": null,
            "overflow_y": null,
            "padding": null,
            "right": null,
            "top": null,
            "visibility": null,
            "width": null
          }
        },
        "1631c4e679594cfd9d0bf3a01cf39c9b": {
          "model_module": "@jupyter-widgets/controls",
          "model_module_version": "1.5.0",
          "model_name": "HBoxModel",
          "state": {
            "_dom_classes": [],
            "_model_module": "@jupyter-widgets/controls",
            "_model_module_version": "1.5.0",
            "_model_name": "HBoxModel",
            "_view_count": null,
            "_view_module": "@jupyter-widgets/controls",
            "_view_module_version": "1.5.0",
            "_view_name": "HBoxView",
            "box_style": "",
            "children": [
              "IPY_MODEL_80243f1ffa924370a096ad32e3206e2e",
              "IPY_MODEL_ef9e71081081443abb17279d0b6bc785",
              "IPY_MODEL_341d53e075834328bc0aee4e84a52bca"
            ],
            "layout": "IPY_MODEL_ed1f46b9040846f5a828b8a684fcf974"
          }
        },
        "1efed397e45b46149497b8d6b746d810": {
          "model_module": "@jupyter-widgets/controls",
          "model_module_version": "1.5.0",
          "model_name": "HTMLModel",
          "state": {
            "_dom_classes": [],
            "_model_module": "@jupyter-widgets/controls",
            "_model_module_version": "1.5.0",
            "_model_name": "HTMLModel",
            "_view_count": null,
            "_view_module": "@jupyter-widgets/controls",
            "_view_module_version": "1.5.0",
            "_view_name": "HTMLView",
            "description": "",
            "description_tooltip": null,
            "layout": "IPY_MODEL_c31a167e6f0243c8b1cedc466f1de551",
            "placeholder": "​",
            "style": "IPY_MODEL_c83b9f8688e94d04b0efe6eee1b13a12",
            "value": "Downloading: 100%"
          }
        },
        "20f9766df116430ba67c0444f2382032": {
          "model_module": "@jupyter-widgets/base",
          "model_module_version": "1.2.0",
          "model_name": "LayoutModel",
          "state": {
            "_model_module": "@jupyter-widgets/base",
            "_model_module_version": "1.2.0",
            "_model_name": "LayoutModel",
            "_view_count": null,
            "_view_module": "@jupyter-widgets/base",
            "_view_module_version": "1.2.0",
            "_view_name": "LayoutView",
            "align_content": null,
            "align_items": null,
            "align_self": null,
            "border": null,
            "bottom": null,
            "display": null,
            "flex": null,
            "flex_flow": null,
            "grid_area": null,
            "grid_auto_columns": null,
            "grid_auto_flow": null,
            "grid_auto_rows": null,
            "grid_column": null,
            "grid_gap": null,
            "grid_row": null,
            "grid_template_areas": null,
            "grid_template_columns": null,
            "grid_template_rows": null,
            "height": null,
            "justify_content": null,
            "justify_items": null,
            "left": null,
            "margin": null,
            "max_height": null,
            "max_width": null,
            "min_height": null,
            "min_width": null,
            "object_fit": null,
            "object_position": null,
            "order": null,
            "overflow": null,
            "overflow_x": null,
            "overflow_y": null,
            "padding": null,
            "right": null,
            "top": null,
            "visibility": null,
            "width": null
          }
        },
        "212a3cf5b4354c689e9d9de5c9a50647": {
          "model_module": "@jupyter-widgets/controls",
          "model_module_version": "1.5.0",
          "model_name": "DescriptionStyleModel",
          "state": {
            "_model_module": "@jupyter-widgets/controls",
            "_model_module_version": "1.5.0",
            "_model_name": "DescriptionStyleModel",
            "_view_count": null,
            "_view_module": "@jupyter-widgets/base",
            "_view_module_version": "1.2.0",
            "_view_name": "StyleView",
            "description_width": ""
          }
        },
        "2361baed4adb4c089f7b66dbaa437b72": {
          "model_module": "@jupyter-widgets/base",
          "model_module_version": "1.2.0",
          "model_name": "LayoutModel",
          "state": {
            "_model_module": "@jupyter-widgets/base",
            "_model_module_version": "1.2.0",
            "_model_name": "LayoutModel",
            "_view_count": null,
            "_view_module": "@jupyter-widgets/base",
            "_view_module_version": "1.2.0",
            "_view_name": "LayoutView",
            "align_content": null,
            "align_items": null,
            "align_self": null,
            "border": null,
            "bottom": null,
            "display": null,
            "flex": null,
            "flex_flow": null,
            "grid_area": null,
            "grid_auto_columns": null,
            "grid_auto_flow": null,
            "grid_auto_rows": null,
            "grid_column": null,
            "grid_gap": null,
            "grid_row": null,
            "grid_template_areas": null,
            "grid_template_columns": null,
            "grid_template_rows": null,
            "height": null,
            "justify_content": null,
            "justify_items": null,
            "left": null,
            "margin": null,
            "max_height": null,
            "max_width": null,
            "min_height": null,
            "min_width": null,
            "object_fit": null,
            "object_position": null,
            "order": null,
            "overflow": null,
            "overflow_x": null,
            "overflow_y": null,
            "padding": null,
            "right": null,
            "top": null,
            "visibility": null,
            "width": null
          }
        },
        "2bc528c9fe564264992c05b2099ea0bd": {
          "model_module": "@jupyter-widgets/controls",
          "model_module_version": "1.5.0",
          "model_name": "HBoxModel",
          "state": {
            "_dom_classes": [],
            "_model_module": "@jupyter-widgets/controls",
            "_model_module_version": "1.5.0",
            "_model_name": "HBoxModel",
            "_view_count": null,
            "_view_module": "@jupyter-widgets/controls",
            "_view_module_version": "1.5.0",
            "_view_name": "HBoxView",
            "box_style": "",
            "children": [
              "IPY_MODEL_a928af3fca994d3781d87f4054177d4d",
              "IPY_MODEL_e00c76938f5043139873b1a6f7c8bd61",
              "IPY_MODEL_a82fc83fdd9245f5a361838f338b286d"
            ],
            "layout": "IPY_MODEL_2361baed4adb4c089f7b66dbaa437b72"
          }
        },
        "30aeba5e163f4e4d8df957f5b53d8fb3": {
          "model_module": "@jupyter-widgets/base",
          "model_module_version": "1.2.0",
          "model_name": "LayoutModel",
          "state": {
            "_model_module": "@jupyter-widgets/base",
            "_model_module_version": "1.2.0",
            "_model_name": "LayoutModel",
            "_view_count": null,
            "_view_module": "@jupyter-widgets/base",
            "_view_module_version": "1.2.0",
            "_view_name": "LayoutView",
            "align_content": null,
            "align_items": null,
            "align_self": null,
            "border": null,
            "bottom": null,
            "display": null,
            "flex": null,
            "flex_flow": null,
            "grid_area": null,
            "grid_auto_columns": null,
            "grid_auto_flow": null,
            "grid_auto_rows": null,
            "grid_column": null,
            "grid_gap": null,
            "grid_row": null,
            "grid_template_areas": null,
            "grid_template_columns": null,
            "grid_template_rows": null,
            "height": null,
            "justify_content": null,
            "justify_items": null,
            "left": null,
            "margin": null,
            "max_height": null,
            "max_width": null,
            "min_height": null,
            "min_width": null,
            "object_fit": null,
            "object_position": null,
            "order": null,
            "overflow": null,
            "overflow_x": null,
            "overflow_y": null,
            "padding": null,
            "right": null,
            "top": null,
            "visibility": null,
            "width": null
          }
        },
        "30cb0beaca264abb968b2db4519c9607": {
          "model_module": "@jupyter-widgets/controls",
          "model_module_version": "1.5.0",
          "model_name": "DescriptionStyleModel",
          "state": {
            "_model_module": "@jupyter-widgets/controls",
            "_model_module_version": "1.5.0",
            "_model_name": "DescriptionStyleModel",
            "_view_count": null,
            "_view_module": "@jupyter-widgets/base",
            "_view_module_version": "1.2.0",
            "_view_name": "StyleView",
            "description_width": ""
          }
        },
        "33ef02f839834511acb9bf651f05018e": {
          "model_module": "@jupyter-widgets/base",
          "model_module_version": "1.2.0",
          "model_name": "LayoutModel",
          "state": {
            "_model_module": "@jupyter-widgets/base",
            "_model_module_version": "1.2.0",
            "_model_name": "LayoutModel",
            "_view_count": null,
            "_view_module": "@jupyter-widgets/base",
            "_view_module_version": "1.2.0",
            "_view_name": "LayoutView",
            "align_content": null,
            "align_items": null,
            "align_self": null,
            "border": null,
            "bottom": null,
            "display": null,
            "flex": null,
            "flex_flow": null,
            "grid_area": null,
            "grid_auto_columns": null,
            "grid_auto_flow": null,
            "grid_auto_rows": null,
            "grid_column": null,
            "grid_gap": null,
            "grid_row": null,
            "grid_template_areas": null,
            "grid_template_columns": null,
            "grid_template_rows": null,
            "height": null,
            "justify_content": null,
            "justify_items": null,
            "left": null,
            "margin": null,
            "max_height": null,
            "max_width": null,
            "min_height": null,
            "min_width": null,
            "object_fit": null,
            "object_position": null,
            "order": null,
            "overflow": null,
            "overflow_x": null,
            "overflow_y": null,
            "padding": null,
            "right": null,
            "top": null,
            "visibility": null,
            "width": null
          }
        },
        "341d53e075834328bc0aee4e84a52bca": {
          "model_module": "@jupyter-widgets/controls",
          "model_module_version": "1.5.0",
          "model_name": "HTMLModel",
          "state": {
            "_dom_classes": [],
            "_model_module": "@jupyter-widgets/controls",
            "_model_module_version": "1.5.0",
            "_model_name": "HTMLModel",
            "_view_count": null,
            "_view_module": "@jupyter-widgets/controls",
            "_view_module_version": "1.5.0",
            "_view_name": "HTMLView",
            "description": "",
            "description_tooltip": null,
            "layout": "IPY_MODEL_6b5ba89bb8cf4c2591c71d1395ad3ade",
            "placeholder": "​",
            "style": "IPY_MODEL_fe3e1a04758f4b13b953e2b897f6d59e",
            "value": " 1.29M/1.29M [00:00&lt;00:00, 2.11MB/s]"
          }
        },
        "346c9ebebf15499eab954598db9f5951": {
          "model_module": "@jupyter-widgets/controls",
          "model_module_version": "1.5.0",
          "model_name": "DescriptionStyleModel",
          "state": {
            "_model_module": "@jupyter-widgets/controls",
            "_model_module_version": "1.5.0",
            "_model_name": "DescriptionStyleModel",
            "_view_count": null,
            "_view_module": "@jupyter-widgets/base",
            "_view_module_version": "1.2.0",
            "_view_name": "StyleView",
            "description_width": ""
          }
        },
        "4cbfa5a26c2b4826b0877a3fea5736aa": {
          "model_module": "@jupyter-widgets/controls",
          "model_module_version": "1.5.0",
          "model_name": "DescriptionStyleModel",
          "state": {
            "_model_module": "@jupyter-widgets/controls",
            "_model_module_version": "1.5.0",
            "_model_name": "DescriptionStyleModel",
            "_view_count": null,
            "_view_module": "@jupyter-widgets/base",
            "_view_module_version": "1.2.0",
            "_view_name": "StyleView",
            "description_width": ""
          }
        },
        "4d24e6b4499f419fb5a9e9d0be2feefd": {
          "model_module": "@jupyter-widgets/controls",
          "model_module_version": "1.5.0",
          "model_name": "HBoxModel",
          "state": {
            "_dom_classes": [],
            "_model_module": "@jupyter-widgets/controls",
            "_model_module_version": "1.5.0",
            "_model_name": "HBoxModel",
            "_view_count": null,
            "_view_module": "@jupyter-widgets/controls",
            "_view_module_version": "1.5.0",
            "_view_name": "HBoxView",
            "box_style": "",
            "children": [
              "IPY_MODEL_ce05f626e7ed4bd3a12073c7a1df1915",
              "IPY_MODEL_542dced90ff04900be82d7fcba9cd73c",
              "IPY_MODEL_5c758efc50db40e999c38c694e2406db"
            ],
            "layout": "IPY_MODEL_20f9766df116430ba67c0444f2382032"
          }
        },
        "542dced90ff04900be82d7fcba9cd73c": {
          "model_module": "@jupyter-widgets/controls",
          "model_module_version": "1.5.0",
          "model_name": "FloatProgressModel",
          "state": {
            "_dom_classes": [],
            "_model_module": "@jupyter-widgets/controls",
            "_model_module_version": "1.5.0",
            "_model_name": "FloatProgressModel",
            "_view_count": null,
            "_view_module": "@jupyter-widgets/controls",
            "_view_module_version": "1.5.0",
            "_view_name": "ProgressView",
            "bar_style": "success",
            "description": "",
            "description_tooltip": null,
            "layout": "IPY_MODEL_30aeba5e163f4e4d8df957f5b53d8fb3",
            "max": 665,
            "min": 0,
            "orientation": "horizontal",
            "style": "IPY_MODEL_ee3e6e5f54484c37a1b7d9ec2f58e61f",
            "value": 665
          }
        },
        "546a7f94407540a7affe20f6bccc8ff7": {
          "model_module": "@jupyter-widgets/controls",
          "model_module_version": "1.5.0",
          "model_name": "HTMLModel",
          "state": {
            "_dom_classes": [],
            "_model_module": "@jupyter-widgets/controls",
            "_model_module_version": "1.5.0",
            "_model_name": "HTMLModel",
            "_view_count": null,
            "_view_module": "@jupyter-widgets/controls",
            "_view_module_version": "1.5.0",
            "_view_name": "HTMLView",
            "description": "",
            "description_tooltip": null,
            "layout": "IPY_MODEL_13b9d7058ebb49349e1441af3a924ebb",
            "placeholder": "​",
            "style": "IPY_MODEL_0e693df3a2c24968b50627cb211250b0",
            "value": " 0.99M/0.99M [00:00&lt;00:00, 2.00MB/s]"
          }
        },
        "5c758efc50db40e999c38c694e2406db": {
          "model_module": "@jupyter-widgets/controls",
          "model_module_version": "1.5.0",
          "model_name": "HTMLModel",
          "state": {
            "_dom_classes": [],
            "_model_module": "@jupyter-widgets/controls",
            "_model_module_version": "1.5.0",
            "_model_name": "HTMLModel",
            "_view_count": null,
            "_view_module": "@jupyter-widgets/controls",
            "_view_module_version": "1.5.0",
            "_view_name": "HTMLView",
            "description": "",
            "description_tooltip": null,
            "layout": "IPY_MODEL_fb4573a380084c31a4519538e2136dfe",
            "placeholder": "​",
            "style": "IPY_MODEL_bbe07df7fa824825a1769ca0c8dc7a98",
            "value": " 665/665 [00:00&lt;00:00, 18.9kB/s]"
          }
        },
        "5e27dbdc36e84cdeab6ffffb0a9a30d9": {
          "model_module": "@jupyter-widgets/base",
          "model_module_version": "1.2.0",
          "model_name": "LayoutModel",
          "state": {
            "_model_module": "@jupyter-widgets/base",
            "_model_module_version": "1.2.0",
            "_model_name": "LayoutModel",
            "_view_count": null,
            "_view_module": "@jupyter-widgets/base",
            "_view_module_version": "1.2.0",
            "_view_name": "LayoutView",
            "align_content": null,
            "align_items": null,
            "align_self": null,
            "border": null,
            "bottom": null,
            "display": null,
            "flex": null,
            "flex_flow": null,
            "grid_area": null,
            "grid_auto_columns": null,
            "grid_auto_flow": null,
            "grid_auto_rows": null,
            "grid_column": null,
            "grid_gap": null,
            "grid_row": null,
            "grid_template_areas": null,
            "grid_template_columns": null,
            "grid_template_rows": null,
            "height": null,
            "justify_content": null,
            "justify_items": null,
            "left": null,
            "margin": null,
            "max_height": null,
            "max_width": null,
            "min_height": null,
            "min_width": null,
            "object_fit": null,
            "object_position": null,
            "order": null,
            "overflow": null,
            "overflow_x": null,
            "overflow_y": null,
            "padding": null,
            "right": null,
            "top": null,
            "visibility": null,
            "width": null
          }
        },
        "6b56927ac1a04bd78d72d01448305c6f": {
          "model_module": "@jupyter-widgets/controls",
          "model_module_version": "1.5.0",
          "model_name": "HBoxModel",
          "state": {
            "_dom_classes": [],
            "_model_module": "@jupyter-widgets/controls",
            "_model_module_version": "1.5.0",
            "_model_name": "HBoxModel",
            "_view_count": null,
            "_view_module": "@jupyter-widgets/controls",
            "_view_module_version": "1.5.0",
            "_view_name": "HBoxView",
            "box_style": "",
            "children": [
              "IPY_MODEL_eb48fa66f8b04ad79a4c7638c1e6f7b8",
              "IPY_MODEL_d9570bb172e649099a2d2dfe85bddfad",
              "IPY_MODEL_546a7f94407540a7affe20f6bccc8ff7"
            ],
            "layout": "IPY_MODEL_33ef02f839834511acb9bf651f05018e"
          }
        },
        "6b5ba89bb8cf4c2591c71d1395ad3ade": {
          "model_module": "@jupyter-widgets/base",
          "model_module_version": "1.2.0",
          "model_name": "LayoutModel",
          "state": {
            "_model_module": "@jupyter-widgets/base",
            "_model_module_version": "1.2.0",
            "_model_name": "LayoutModel",
            "_view_count": null,
            "_view_module": "@jupyter-widgets/base",
            "_view_module_version": "1.2.0",
            "_view_name": "LayoutView",
            "align_content": null,
            "align_items": null,
            "align_self": null,
            "border": null,
            "bottom": null,
            "display": null,
            "flex": null,
            "flex_flow": null,
            "grid_area": null,
            "grid_auto_columns": null,
            "grid_auto_flow": null,
            "grid_auto_rows": null,
            "grid_column": null,
            "grid_gap": null,
            "grid_row": null,
            "grid_template_areas": null,
            "grid_template_columns": null,
            "grid_template_rows": null,
            "height": null,
            "justify_content": null,
            "justify_items": null,
            "left": null,
            "margin": null,
            "max_height": null,
            "max_width": null,
            "min_height": null,
            "min_width": null,
            "object_fit": null,
            "object_position": null,
            "order": null,
            "overflow": null,
            "overflow_x": null,
            "overflow_y": null,
            "padding": null,
            "right": null,
            "top": null,
            "visibility": null,
            "width": null
          }
        },
        "7511367275254ab19494bbebd24686d7": {
          "model_module": "@jupyter-widgets/base",
          "model_module_version": "1.2.0",
          "model_name": "LayoutModel",
          "state": {
            "_model_module": "@jupyter-widgets/base",
            "_model_module_version": "1.2.0",
            "_model_name": "LayoutModel",
            "_view_count": null,
            "_view_module": "@jupyter-widgets/base",
            "_view_module_version": "1.2.0",
            "_view_name": "LayoutView",
            "align_content": null,
            "align_items": null,
            "align_self": null,
            "border": null,
            "bottom": null,
            "display": null,
            "flex": null,
            "flex_flow": null,
            "grid_area": null,
            "grid_auto_columns": null,
            "grid_auto_flow": null,
            "grid_auto_rows": null,
            "grid_column": null,
            "grid_gap": null,
            "grid_row": null,
            "grid_template_areas": null,
            "grid_template_columns": null,
            "grid_template_rows": null,
            "height": null,
            "justify_content": null,
            "justify_items": null,
            "left": null,
            "margin": null,
            "max_height": null,
            "max_width": null,
            "min_height": null,
            "min_width": null,
            "object_fit": null,
            "object_position": null,
            "order": null,
            "overflow": null,
            "overflow_x": null,
            "overflow_y": null,
            "padding": null,
            "right": null,
            "top": null,
            "visibility": null,
            "width": null
          }
        },
        "757f19a745e44b40b6c34921da593367": {
          "model_module": "@jupyter-widgets/base",
          "model_module_version": "1.2.0",
          "model_name": "LayoutModel",
          "state": {
            "_model_module": "@jupyter-widgets/base",
            "_model_module_version": "1.2.0",
            "_model_name": "LayoutModel",
            "_view_count": null,
            "_view_module": "@jupyter-widgets/base",
            "_view_module_version": "1.2.0",
            "_view_name": "LayoutView",
            "align_content": null,
            "align_items": null,
            "align_self": null,
            "border": null,
            "bottom": null,
            "display": null,
            "flex": null,
            "flex_flow": null,
            "grid_area": null,
            "grid_auto_columns": null,
            "grid_auto_flow": null,
            "grid_auto_rows": null,
            "grid_column": null,
            "grid_gap": null,
            "grid_row": null,
            "grid_template_areas": null,
            "grid_template_columns": null,
            "grid_template_rows": null,
            "height": null,
            "justify_content": null,
            "justify_items": null,
            "left": null,
            "margin": null,
            "max_height": null,
            "max_width": null,
            "min_height": null,
            "min_width": null,
            "object_fit": null,
            "object_position": null,
            "order": null,
            "overflow": null,
            "overflow_x": null,
            "overflow_y": null,
            "padding": null,
            "right": null,
            "top": null,
            "visibility": null,
            "width": null
          }
        },
        "79ff80947c9d45999b59252ff522a41e": {
          "model_module": "@jupyter-widgets/controls",
          "model_module_version": "1.5.0",
          "model_name": "HBoxModel",
          "state": {
            "_dom_classes": [],
            "_model_module": "@jupyter-widgets/controls",
            "_model_module_version": "1.5.0",
            "_model_name": "HBoxModel",
            "_view_count": null,
            "_view_module": "@jupyter-widgets/controls",
            "_view_module_version": "1.5.0",
            "_view_name": "HBoxView",
            "box_style": "",
            "children": [
              "IPY_MODEL_1efed397e45b46149497b8d6b746d810",
              "IPY_MODEL_a0cb8790d12142719bab13fb82820efe",
              "IPY_MODEL_b0979ee0e148401895a80beb5d98b63b"
            ],
            "layout": "IPY_MODEL_dd4c7884bcbc466382000af7472a941c"
          }
        },
        "80243f1ffa924370a096ad32e3206e2e": {
          "model_module": "@jupyter-widgets/controls",
          "model_module_version": "1.5.0",
          "model_name": "HTMLModel",
          "state": {
            "_dom_classes": [],
            "_model_module": "@jupyter-widgets/controls",
            "_model_module_version": "1.5.0",
            "_model_name": "HTMLModel",
            "_view_count": null,
            "_view_module": "@jupyter-widgets/controls",
            "_view_module_version": "1.5.0",
            "_view_name": "HTMLView",
            "description": "",
            "description_tooltip": null,
            "layout": "IPY_MODEL_7511367275254ab19494bbebd24686d7",
            "placeholder": "​",
            "style": "IPY_MODEL_346c9ebebf15499eab954598db9f5951",
            "value": "Downloading: 100%"
          }
        },
        "8121887fbde5456687e8d41bda3077bc": {
          "model_module": "@jupyter-widgets/base",
          "model_module_version": "1.2.0",
          "model_name": "LayoutModel",
          "state": {
            "_model_module": "@jupyter-widgets/base",
            "_model_module_version": "1.2.0",
            "_model_name": "LayoutModel",
            "_view_count": null,
            "_view_module": "@jupyter-widgets/base",
            "_view_module_version": "1.2.0",
            "_view_name": "LayoutView",
            "align_content": null,
            "align_items": null,
            "align_self": null,
            "border": null,
            "bottom": null,
            "display": null,
            "flex": null,
            "flex_flow": null,
            "grid_area": null,
            "grid_auto_columns": null,
            "grid_auto_flow": null,
            "grid_auto_rows": null,
            "grid_column": null,
            "grid_gap": null,
            "grid_row": null,
            "grid_template_areas": null,
            "grid_template_columns": null,
            "grid_template_rows": null,
            "height": null,
            "justify_content": null,
            "justify_items": null,
            "left": null,
            "margin": null,
            "max_height": null,
            "max_width": null,
            "min_height": null,
            "min_width": null,
            "object_fit": null,
            "object_position": null,
            "order": null,
            "overflow": null,
            "overflow_x": null,
            "overflow_y": null,
            "padding": null,
            "right": null,
            "top": null,
            "visibility": null,
            "width": null
          }
        },
        "83f9841e6f734c49b1469a8d60c66f67": {
          "model_module": "@jupyter-widgets/base",
          "model_module_version": "1.2.0",
          "model_name": "LayoutModel",
          "state": {
            "_model_module": "@jupyter-widgets/base",
            "_model_module_version": "1.2.0",
            "_model_name": "LayoutModel",
            "_view_count": null,
            "_view_module": "@jupyter-widgets/base",
            "_view_module_version": "1.2.0",
            "_view_name": "LayoutView",
            "align_content": null,
            "align_items": null,
            "align_self": null,
            "border": null,
            "bottom": null,
            "display": null,
            "flex": null,
            "flex_flow": null,
            "grid_area": null,
            "grid_auto_columns": null,
            "grid_auto_flow": null,
            "grid_auto_rows": null,
            "grid_column": null,
            "grid_gap": null,
            "grid_row": null,
            "grid_template_areas": null,
            "grid_template_columns": null,
            "grid_template_rows": null,
            "height": null,
            "justify_content": null,
            "justify_items": null,
            "left": null,
            "margin": null,
            "max_height": null,
            "max_width": null,
            "min_height": null,
            "min_width": null,
            "object_fit": null,
            "object_position": null,
            "order": null,
            "overflow": null,
            "overflow_x": null,
            "overflow_y": null,
            "padding": null,
            "right": null,
            "top": null,
            "visibility": null,
            "width": null
          }
        },
        "975b18e4956f4471b20db9cb9ce32fd8": {
          "model_module": "@jupyter-widgets/base",
          "model_module_version": "1.2.0",
          "model_name": "LayoutModel",
          "state": {
            "_model_module": "@jupyter-widgets/base",
            "_model_module_version": "1.2.0",
            "_model_name": "LayoutModel",
            "_view_count": null,
            "_view_module": "@jupyter-widgets/base",
            "_view_module_version": "1.2.0",
            "_view_name": "LayoutView",
            "align_content": null,
            "align_items": null,
            "align_self": null,
            "border": null,
            "bottom": null,
            "display": null,
            "flex": null,
            "flex_flow": null,
            "grid_area": null,
            "grid_auto_columns": null,
            "grid_auto_flow": null,
            "grid_auto_rows": null,
            "grid_column": null,
            "grid_gap": null,
            "grid_row": null,
            "grid_template_areas": null,
            "grid_template_columns": null,
            "grid_template_rows": null,
            "height": null,
            "justify_content": null,
            "justify_items": null,
            "left": null,
            "margin": null,
            "max_height": null,
            "max_width": null,
            "min_height": null,
            "min_width": null,
            "object_fit": null,
            "object_position": null,
            "order": null,
            "overflow": null,
            "overflow_x": null,
            "overflow_y": null,
            "padding": null,
            "right": null,
            "top": null,
            "visibility": null,
            "width": null
          }
        },
        "9d3a119546ba4899baa8c35aff5deb52": {
          "model_module": "@jupyter-widgets/controls",
          "model_module_version": "1.5.0",
          "model_name": "DescriptionStyleModel",
          "state": {
            "_model_module": "@jupyter-widgets/controls",
            "_model_module_version": "1.5.0",
            "_model_name": "DescriptionStyleModel",
            "_view_count": null,
            "_view_module": "@jupyter-widgets/base",
            "_view_module_version": "1.2.0",
            "_view_name": "StyleView",
            "description_width": ""
          }
        },
        "a0cb8790d12142719bab13fb82820efe": {
          "model_module": "@jupyter-widgets/controls",
          "model_module_version": "1.5.0",
          "model_name": "FloatProgressModel",
          "state": {
            "_dom_classes": [],
            "_model_module": "@jupyter-widgets/controls",
            "_model_module_version": "1.5.0",
            "_model_name": "FloatProgressModel",
            "_view_count": null,
            "_view_module": "@jupyter-widgets/controls",
            "_view_module_version": "1.5.0",
            "_view_name": "ProgressView",
            "bar_style": "success",
            "description": "",
            "description_tooltip": null,
            "layout": "IPY_MODEL_109a008f1b9d407da1b4aa35c88aa613",
            "max": 456318,
            "min": 0,
            "orientation": "horizontal",
            "style": "IPY_MODEL_f49709a9d81a43c89465cddfc9fd67ad",
            "value": 456318
          }
        },
        "a3b0448c628a4a969334db7e336ca074": {
          "model_module": "@jupyter-widgets/controls",
          "model_module_version": "1.5.0",
          "model_name": "ProgressStyleModel",
          "state": {
            "_model_module": "@jupyter-widgets/controls",
            "_model_module_version": "1.5.0",
            "_model_name": "ProgressStyleModel",
            "_view_count": null,
            "_view_module": "@jupyter-widgets/base",
            "_view_module_version": "1.2.0",
            "_view_name": "StyleView",
            "bar_color": null,
            "description_width": ""
          }
        },
        "a82fc83fdd9245f5a361838f338b286d": {
          "model_module": "@jupyter-widgets/controls",
          "model_module_version": "1.5.0",
          "model_name": "HTMLModel",
          "state": {
            "_dom_classes": [],
            "_model_module": "@jupyter-widgets/controls",
            "_model_module_version": "1.5.0",
            "_model_name": "HTMLModel",
            "_view_count": null,
            "_view_module": "@jupyter-widgets/controls",
            "_view_module_version": "1.5.0",
            "_view_name": "HTMLView",
            "description": "",
            "description_tooltip": null,
            "layout": "IPY_MODEL_975b18e4956f4471b20db9cb9ce32fd8",
            "placeholder": "​",
            "style": "IPY_MODEL_9d3a119546ba4899baa8c35aff5deb52",
            "value": " 523M/523M [00:12&lt;00:00, 45.7MB/s]"
          }
        },
        "a928af3fca994d3781d87f4054177d4d": {
          "model_module": "@jupyter-widgets/controls",
          "model_module_version": "1.5.0",
          "model_name": "HTMLModel",
          "state": {
            "_dom_classes": [],
            "_model_module": "@jupyter-widgets/controls",
            "_model_module_version": "1.5.0",
            "_model_name": "HTMLModel",
            "_view_count": null,
            "_view_module": "@jupyter-widgets/controls",
            "_view_module_version": "1.5.0",
            "_view_name": "HTMLView",
            "description": "",
            "description_tooltip": null,
            "layout": "IPY_MODEL_fc3c07412561428db94b354f52e8d36c",
            "placeholder": "​",
            "style": "IPY_MODEL_cfb1bb164ec14ee6b79c158008213706",
            "value": "Downloading: 100%"
          }
        },
        "b0979ee0e148401895a80beb5d98b63b": {
          "model_module": "@jupyter-widgets/controls",
          "model_module_version": "1.5.0",
          "model_name": "HTMLModel",
          "state": {
            "_dom_classes": [],
            "_model_module": "@jupyter-widgets/controls",
            "_model_module_version": "1.5.0",
            "_model_name": "HTMLModel",
            "_view_count": null,
            "_view_module": "@jupyter-widgets/controls",
            "_view_module_version": "1.5.0",
            "_view_name": "HTMLView",
            "description": "",
            "description_tooltip": null,
            "layout": "IPY_MODEL_b14651d2bc13406391597a0fffb2e449",
            "placeholder": "​",
            "style": "IPY_MODEL_212a3cf5b4354c689e9d9de5c9a50647",
            "value": " 446k/446k [00:00&lt;00:00, 600kB/s]"
          }
        },
        "b14651d2bc13406391597a0fffb2e449": {
          "model_module": "@jupyter-widgets/base",
          "model_module_version": "1.2.0",
          "model_name": "LayoutModel",
          "state": {
            "_model_module": "@jupyter-widgets/base",
            "_model_module_version": "1.2.0",
            "_model_name": "LayoutModel",
            "_view_count": null,
            "_view_module": "@jupyter-widgets/base",
            "_view_module_version": "1.2.0",
            "_view_name": "LayoutView",
            "align_content": null,
            "align_items": null,
            "align_self": null,
            "border": null,
            "bottom": null,
            "display": null,
            "flex": null,
            "flex_flow": null,
            "grid_area": null,
            "grid_auto_columns": null,
            "grid_auto_flow": null,
            "grid_auto_rows": null,
            "grid_column": null,
            "grid_gap": null,
            "grid_row": null,
            "grid_template_areas": null,
            "grid_template_columns": null,
            "grid_template_rows": null,
            "height": null,
            "justify_content": null,
            "justify_items": null,
            "left": null,
            "margin": null,
            "max_height": null,
            "max_width": null,
            "min_height": null,
            "min_width": null,
            "object_fit": null,
            "object_position": null,
            "order": null,
            "overflow": null,
            "overflow_x": null,
            "overflow_y": null,
            "padding": null,
            "right": null,
            "top": null,
            "visibility": null,
            "width": null
          }
        },
        "bbe07df7fa824825a1769ca0c8dc7a98": {
          "model_module": "@jupyter-widgets/controls",
          "model_module_version": "1.5.0",
          "model_name": "DescriptionStyleModel",
          "state": {
            "_model_module": "@jupyter-widgets/controls",
            "_model_module_version": "1.5.0",
            "_model_name": "DescriptionStyleModel",
            "_view_count": null,
            "_view_module": "@jupyter-widgets/base",
            "_view_module_version": "1.2.0",
            "_view_name": "StyleView",
            "description_width": ""
          }
        },
        "c31a167e6f0243c8b1cedc466f1de551": {
          "model_module": "@jupyter-widgets/base",
          "model_module_version": "1.2.0",
          "model_name": "LayoutModel",
          "state": {
            "_model_module": "@jupyter-widgets/base",
            "_model_module_version": "1.2.0",
            "_model_name": "LayoutModel",
            "_view_count": null,
            "_view_module": "@jupyter-widgets/base",
            "_view_module_version": "1.2.0",
            "_view_name": "LayoutView",
            "align_content": null,
            "align_items": null,
            "align_self": null,
            "border": null,
            "bottom": null,
            "display": null,
            "flex": null,
            "flex_flow": null,
            "grid_area": null,
            "grid_auto_columns": null,
            "grid_auto_flow": null,
            "grid_auto_rows": null,
            "grid_column": null,
            "grid_gap": null,
            "grid_row": null,
            "grid_template_areas": null,
            "grid_template_columns": null,
            "grid_template_rows": null,
            "height": null,
            "justify_content": null,
            "justify_items": null,
            "left": null,
            "margin": null,
            "max_height": null,
            "max_width": null,
            "min_height": null,
            "min_width": null,
            "object_fit": null,
            "object_position": null,
            "order": null,
            "overflow": null,
            "overflow_x": null,
            "overflow_y": null,
            "padding": null,
            "right": null,
            "top": null,
            "visibility": null,
            "width": null
          }
        },
        "c83b9f8688e94d04b0efe6eee1b13a12": {
          "model_module": "@jupyter-widgets/controls",
          "model_module_version": "1.5.0",
          "model_name": "DescriptionStyleModel",
          "state": {
            "_model_module": "@jupyter-widgets/controls",
            "_model_module_version": "1.5.0",
            "_model_name": "DescriptionStyleModel",
            "_view_count": null,
            "_view_module": "@jupyter-widgets/base",
            "_view_module_version": "1.2.0",
            "_view_name": "StyleView",
            "description_width": ""
          }
        },
        "ce05f626e7ed4bd3a12073c7a1df1915": {
          "model_module": "@jupyter-widgets/controls",
          "model_module_version": "1.5.0",
          "model_name": "HTMLModel",
          "state": {
            "_dom_classes": [],
            "_model_module": "@jupyter-widgets/controls",
            "_model_module_version": "1.5.0",
            "_model_name": "HTMLModel",
            "_view_count": null,
            "_view_module": "@jupyter-widgets/controls",
            "_view_module_version": "1.5.0",
            "_view_name": "HTMLView",
            "description": "",
            "description_tooltip": null,
            "layout": "IPY_MODEL_5e27dbdc36e84cdeab6ffffb0a9a30d9",
            "placeholder": "​",
            "style": "IPY_MODEL_4cbfa5a26c2b4826b0877a3fea5736aa",
            "value": "Downloading: 100%"
          }
        },
        "cfb1bb164ec14ee6b79c158008213706": {
          "model_module": "@jupyter-widgets/controls",
          "model_module_version": "1.5.0",
          "model_name": "DescriptionStyleModel",
          "state": {
            "_model_module": "@jupyter-widgets/controls",
            "_model_module_version": "1.5.0",
            "_model_name": "DescriptionStyleModel",
            "_view_count": null,
            "_view_module": "@jupyter-widgets/base",
            "_view_module_version": "1.2.0",
            "_view_name": "StyleView",
            "description_width": ""
          }
        },
        "d9570bb172e649099a2d2dfe85bddfad": {
          "model_module": "@jupyter-widgets/controls",
          "model_module_version": "1.5.0",
          "model_name": "FloatProgressModel",
          "state": {
            "_dom_classes": [],
            "_model_module": "@jupyter-widgets/controls",
            "_model_module_version": "1.5.0",
            "_model_name": "FloatProgressModel",
            "_view_count": null,
            "_view_module": "@jupyter-widgets/controls",
            "_view_module_version": "1.5.0",
            "_view_name": "ProgressView",
            "bar_style": "success",
            "description": "",
            "description_tooltip": null,
            "layout": "IPY_MODEL_83f9841e6f734c49b1469a8d60c66f67",
            "max": 1042301,
            "min": 0,
            "orientation": "horizontal",
            "style": "IPY_MODEL_a3b0448c628a4a969334db7e336ca074",
            "value": 1042301
          }
        },
        "dd4c7884bcbc466382000af7472a941c": {
          "model_module": "@jupyter-widgets/base",
          "model_module_version": "1.2.0",
          "model_name": "LayoutModel",
          "state": {
            "_model_module": "@jupyter-widgets/base",
            "_model_module_version": "1.2.0",
            "_model_name": "LayoutModel",
            "_view_count": null,
            "_view_module": "@jupyter-widgets/base",
            "_view_module_version": "1.2.0",
            "_view_name": "LayoutView",
            "align_content": null,
            "align_items": null,
            "align_self": null,
            "border": null,
            "bottom": null,
            "display": null,
            "flex": null,
            "flex_flow": null,
            "grid_area": null,
            "grid_auto_columns": null,
            "grid_auto_flow": null,
            "grid_auto_rows": null,
            "grid_column": null,
            "grid_gap": null,
            "grid_row": null,
            "grid_template_areas": null,
            "grid_template_columns": null,
            "grid_template_rows": null,
            "height": null,
            "justify_content": null,
            "justify_items": null,
            "left": null,
            "margin": null,
            "max_height": null,
            "max_width": null,
            "min_height": null,
            "min_width": null,
            "object_fit": null,
            "object_position": null,
            "order": null,
            "overflow": null,
            "overflow_x": null,
            "overflow_y": null,
            "padding": null,
            "right": null,
            "top": null,
            "visibility": null,
            "width": null
          }
        },
        "e00c76938f5043139873b1a6f7c8bd61": {
          "model_module": "@jupyter-widgets/controls",
          "model_module_version": "1.5.0",
          "model_name": "FloatProgressModel",
          "state": {
            "_dom_classes": [],
            "_model_module": "@jupyter-widgets/controls",
            "_model_module_version": "1.5.0",
            "_model_name": "FloatProgressModel",
            "_view_count": null,
            "_view_module": "@jupyter-widgets/controls",
            "_view_module_version": "1.5.0",
            "_view_name": "ProgressView",
            "bar_style": "success",
            "description": "",
            "description_tooltip": null,
            "layout": "IPY_MODEL_757f19a745e44b40b6c34921da593367",
            "max": 548118077,
            "min": 0,
            "orientation": "horizontal",
            "style": "IPY_MODEL_eb91ffaafeb942f29b5a50146a511b0a",
            "value": 548118077
          }
        },
        "eb48fa66f8b04ad79a4c7638c1e6f7b8": {
          "model_module": "@jupyter-widgets/controls",
          "model_module_version": "1.5.0",
          "model_name": "HTMLModel",
          "state": {
            "_dom_classes": [],
            "_model_module": "@jupyter-widgets/controls",
            "_model_module_version": "1.5.0",
            "_model_name": "HTMLModel",
            "_view_count": null,
            "_view_module": "@jupyter-widgets/controls",
            "_view_module_version": "1.5.0",
            "_view_name": "HTMLView",
            "description": "",
            "description_tooltip": null,
            "layout": "IPY_MODEL_8121887fbde5456687e8d41bda3077bc",
            "placeholder": "​",
            "style": "IPY_MODEL_30cb0beaca264abb968b2db4519c9607",
            "value": "Downloading: 100%"
          }
        },
        "eb91ffaafeb942f29b5a50146a511b0a": {
          "model_module": "@jupyter-widgets/controls",
          "model_module_version": "1.5.0",
          "model_name": "ProgressStyleModel",
          "state": {
            "_model_module": "@jupyter-widgets/controls",
            "_model_module_version": "1.5.0",
            "_model_name": "ProgressStyleModel",
            "_view_count": null,
            "_view_module": "@jupyter-widgets/base",
            "_view_module_version": "1.2.0",
            "_view_name": "StyleView",
            "bar_color": null,
            "description_width": ""
          }
        },
        "ed1f46b9040846f5a828b8a684fcf974": {
          "model_module": "@jupyter-widgets/base",
          "model_module_version": "1.2.0",
          "model_name": "LayoutModel",
          "state": {
            "_model_module": "@jupyter-widgets/base",
            "_model_module_version": "1.2.0",
            "_model_name": "LayoutModel",
            "_view_count": null,
            "_view_module": "@jupyter-widgets/base",
            "_view_module_version": "1.2.0",
            "_view_name": "LayoutView",
            "align_content": null,
            "align_items": null,
            "align_self": null,
            "border": null,
            "bottom": null,
            "display": null,
            "flex": null,
            "flex_flow": null,
            "grid_area": null,
            "grid_auto_columns": null,
            "grid_auto_flow": null,
            "grid_auto_rows": null,
            "grid_column": null,
            "grid_gap": null,
            "grid_row": null,
            "grid_template_areas": null,
            "grid_template_columns": null,
            "grid_template_rows": null,
            "height": null,
            "justify_content": null,
            "justify_items": null,
            "left": null,
            "margin": null,
            "max_height": null,
            "max_width": null,
            "min_height": null,
            "min_width": null,
            "object_fit": null,
            "object_position": null,
            "order": null,
            "overflow": null,
            "overflow_x": null,
            "overflow_y": null,
            "padding": null,
            "right": null,
            "top": null,
            "visibility": null,
            "width": null
          }
        },
        "ee3e6e5f54484c37a1b7d9ec2f58e61f": {
          "model_module": "@jupyter-widgets/controls",
          "model_module_version": "1.5.0",
          "model_name": "ProgressStyleModel",
          "state": {
            "_model_module": "@jupyter-widgets/controls",
            "_model_module_version": "1.5.0",
            "_model_name": "ProgressStyleModel",
            "_view_count": null,
            "_view_module": "@jupyter-widgets/base",
            "_view_module_version": "1.2.0",
            "_view_name": "StyleView",
            "bar_color": null,
            "description_width": ""
          }
        },
        "ef9e71081081443abb17279d0b6bc785": {
          "model_module": "@jupyter-widgets/controls",
          "model_module_version": "1.5.0",
          "model_name": "FloatProgressModel",
          "state": {
            "_dom_classes": [],
            "_model_module": "@jupyter-widgets/controls",
            "_model_module_version": "1.5.0",
            "_model_name": "FloatProgressModel",
            "_view_count": null,
            "_view_module": "@jupyter-widgets/controls",
            "_view_module_version": "1.5.0",
            "_view_name": "ProgressView",
            "bar_style": "success",
            "description": "",
            "description_tooltip": null,
            "layout": "IPY_MODEL_f0b742cf29d843239eb1a546594f5a6c",
            "max": 1355256,
            "min": 0,
            "orientation": "horizontal",
            "style": "IPY_MODEL_05270fd111e840f9aaf4018d61d92906",
            "value": 1355256
          }
        },
        "f0b742cf29d843239eb1a546594f5a6c": {
          "model_module": "@jupyter-widgets/base",
          "model_module_version": "1.2.0",
          "model_name": "LayoutModel",
          "state": {
            "_model_module": "@jupyter-widgets/base",
            "_model_module_version": "1.2.0",
            "_model_name": "LayoutModel",
            "_view_count": null,
            "_view_module": "@jupyter-widgets/base",
            "_view_module_version": "1.2.0",
            "_view_name": "LayoutView",
            "align_content": null,
            "align_items": null,
            "align_self": null,
            "border": null,
            "bottom": null,
            "display": null,
            "flex": null,
            "flex_flow": null,
            "grid_area": null,
            "grid_auto_columns": null,
            "grid_auto_flow": null,
            "grid_auto_rows": null,
            "grid_column": null,
            "grid_gap": null,
            "grid_row": null,
            "grid_template_areas": null,
            "grid_template_columns": null,
            "grid_template_rows": null,
            "height": null,
            "justify_content": null,
            "justify_items": null,
            "left": null,
            "margin": null,
            "max_height": null,
            "max_width": null,
            "min_height": null,
            "min_width": null,
            "object_fit": null,
            "object_position": null,
            "order": null,
            "overflow": null,
            "overflow_x": null,
            "overflow_y": null,
            "padding": null,
            "right": null,
            "top": null,
            "visibility": null,
            "width": null
          }
        },
        "f49709a9d81a43c89465cddfc9fd67ad": {
          "model_module": "@jupyter-widgets/controls",
          "model_module_version": "1.5.0",
          "model_name": "ProgressStyleModel",
          "state": {
            "_model_module": "@jupyter-widgets/controls",
            "_model_module_version": "1.5.0",
            "_model_name": "ProgressStyleModel",
            "_view_count": null,
            "_view_module": "@jupyter-widgets/base",
            "_view_module_version": "1.2.0",
            "_view_name": "StyleView",
            "bar_color": null,
            "description_width": ""
          }
        },
        "fb4573a380084c31a4519538e2136dfe": {
          "model_module": "@jupyter-widgets/base",
          "model_module_version": "1.2.0",
          "model_name": "LayoutModel",
          "state": {
            "_model_module": "@jupyter-widgets/base",
            "_model_module_version": "1.2.0",
            "_model_name": "LayoutModel",
            "_view_count": null,
            "_view_module": "@jupyter-widgets/base",
            "_view_module_version": "1.2.0",
            "_view_name": "LayoutView",
            "align_content": null,
            "align_items": null,
            "align_self": null,
            "border": null,
            "bottom": null,
            "display": null,
            "flex": null,
            "flex_flow": null,
            "grid_area": null,
            "grid_auto_columns": null,
            "grid_auto_flow": null,
            "grid_auto_rows": null,
            "grid_column": null,
            "grid_gap": null,
            "grid_row": null,
            "grid_template_areas": null,
            "grid_template_columns": null,
            "grid_template_rows": null,
            "height": null,
            "justify_content": null,
            "justify_items": null,
            "left": null,
            "margin": null,
            "max_height": null,
            "max_width": null,
            "min_height": null,
            "min_width": null,
            "object_fit": null,
            "object_position": null,
            "order": null,
            "overflow": null,
            "overflow_x": null,
            "overflow_y": null,
            "padding": null,
            "right": null,
            "top": null,
            "visibility": null,
            "width": null
          }
        },
        "fc3c07412561428db94b354f52e8d36c": {
          "model_module": "@jupyter-widgets/base",
          "model_module_version": "1.2.0",
          "model_name": "LayoutModel",
          "state": {
            "_model_module": "@jupyter-widgets/base",
            "_model_module_version": "1.2.0",
            "_model_name": "LayoutModel",
            "_view_count": null,
            "_view_module": "@jupyter-widgets/base",
            "_view_module_version": "1.2.0",
            "_view_name": "LayoutView",
            "align_content": null,
            "align_items": null,
            "align_self": null,
            "border": null,
            "bottom": null,
            "display": null,
            "flex": null,
            "flex_flow": null,
            "grid_area": null,
            "grid_auto_columns": null,
            "grid_auto_flow": null,
            "grid_auto_rows": null,
            "grid_column": null,
            "grid_gap": null,
            "grid_row": null,
            "grid_template_areas": null,
            "grid_template_columns": null,
            "grid_template_rows": null,
            "height": null,
            "justify_content": null,
            "justify_items": null,
            "left": null,
            "margin": null,
            "max_height": null,
            "max_width": null,
            "min_height": null,
            "min_width": null,
            "object_fit": null,
            "object_position": null,
            "order": null,
            "overflow": null,
            "overflow_x": null,
            "overflow_y": null,
            "padding": null,
            "right": null,
            "top": null,
            "visibility": null,
            "width": null
          }
        },
        "fe3e1a04758f4b13b953e2b897f6d59e": {
          "model_module": "@jupyter-widgets/controls",
          "model_module_version": "1.5.0",
          "model_name": "DescriptionStyleModel",
          "state": {
            "_model_module": "@jupyter-widgets/controls",
            "_model_module_version": "1.5.0",
            "_model_name": "DescriptionStyleModel",
            "_view_count": null,
            "_view_module": "@jupyter-widgets/base",
            "_view_module_version": "1.2.0",
            "_view_name": "StyleView",
            "description_width": ""
          }
        }
      }
    }
  },
  "nbformat": 4,
  "nbformat_minor": 0
}
